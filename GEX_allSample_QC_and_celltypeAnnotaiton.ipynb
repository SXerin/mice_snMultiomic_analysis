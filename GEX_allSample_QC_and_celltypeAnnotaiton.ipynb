{
 "cells": [
  {
   "cell_type": "code",
   "execution_count": null,
   "id": "2e771a88",
   "metadata": {
    "vscode": {
     "languageId": "r"
    }
   },
   "outputs": [],
   "source": [
    "library(tidyverse)\n",
    "library(cowplot)\n",
    "library(Matrix.utils)\n",
    "library(edgeR)\n",
    "library(Matrix)\n",
    "library(reshape2)\n",
    "library(S4Vectors)\n",
    "library(SingleCellExperiment)\n",
    "library(pheatmap)\n",
    "library(apeglm)\n",
    "library(png)\n",
    "library(DESeq2)\n",
    "library(RColorBrewer)\n",
    "library(data.table)\n",
    "library(Seurat)\n",
    "library(AUCell)\n",
    "library(ggplot2)\n",
    "library(tidyr)\n",
    "library(harmony)\n",
    "library(Scillus)\n",
    "library(ggpubr)\n",
    "library(patchwork)\n",
    "set.seed(123)"
   ]
  },
  {
   "cell_type": "code",
   "execution_count": null,
   "id": "82840b0b",
   "metadata": {
    "vscode": {
     "languageId": "r"
    }
   },
   "outputs": [],
   "source": [
    "packageVersion(\"Seurat\")"
   ]
  },
  {
   "cell_type": "markdown",
   "id": "209b883d",
   "metadata": {
    "vscode": {
     "languageId": "r"
    }
   },
   "source": [
    "# Goals:\n",
    "## 1. Create a Seurat object and perform basic QC\n",
    "## 2. Normalize the data, find PCs, correct batch effects and cluster -> Annotate cell types - > Remove contaminant or DC2 cells if necessary"
   ]
  },
  {
   "cell_type": "markdown",
   "id": "f5a22d79-bdb0-4685-8c7a-20afb9c1781c",
   "metadata": {
    "tags": []
   },
   "source": [
    "# <span style=\"color:green\"> Part 1: Create Seur obj and QC <span>"
   ]
  },
  {
   "cell_type": "markdown",
   "id": "a32bb083-3bd1-47d4-83e6-885153ba8261",
   "metadata": {},
   "source": [
    "## Read in files"
   ]
  },
  {
   "cell_type": "code",
   "execution_count": null,
   "id": "a896ce00-62db-459c-841a-969aa6855487",
   "metadata": {
    "vscode": {
     "languageId": "r"
    }
   },
   "outputs": [],
   "source": [
    "files_fullpath <- list.files(\"doublet_free_matrix\",full.names = T)\n",
    "files <- list.files(\"doublet_free_matrix\",full.names = F)\n",
    "SubjectID <- files\n",
    "\n",
    "files_fullpath\n",
    "files\n",
    "SubjectID"
   ]
  },
  {
   "cell_type": "code",
   "execution_count": null,
   "id": "79863f4c-8c97-488a-a17b-a9a79164d5f8",
   "metadata": {
    "vscode": {
     "languageId": "r"
    }
   },
   "outputs": [],
   "source": [
    "l_raw <- list()\n",
    "\n",
    "for (i in 1:length(files_fullpath)){\n",
    "    input = Read10X(files_fullpath[i])\n",
    "    colnames(input) = paste(colnames(input),SubjectID[i], sep = \".\")\n",
    "    l_raw[[i]] = input\n",
    "}\n",
    "\n",
    "names(l_raw) <- SubjectID\n",
    "\n",
    "str(l_raw)\n",
    "names(l_raw)"
   ]
  },
  {
   "cell_type": "code",
   "execution_count": null,
   "id": "e7fb896e-4b06-4c05-9f40-15120058f688",
   "metadata": {
    "collapsed": true,
    "jupyter": {
     "outputs_hidden": true
    },
    "tags": [],
    "vscode": {
     "languageId": "r"
    }
   },
   "outputs": [],
   "source": [
    "fullmat <- do.call(cbind, l_raw)\n",
    "dim(fullmat)\n",
    "corner(fullmat)"
   ]
  },
  {
   "cell_type": "markdown",
   "id": "70c4da9f-0760-4bde-85f3-5712c9e156ea",
   "metadata": {},
   "source": [
    "## prep the metadata"
   ]
  },
  {
   "cell_type": "code",
   "execution_count": null,
   "id": "40b9d967-f175-4002-92b4-932fc7654b8f",
   "metadata": {
    "vscode": {
     "languageId": "r"
    }
   },
   "outputs": [],
   "source": [
    "head(colnames(fullmat))"
   ]
  },
  {
   "cell_type": "code",
   "execution_count": null,
   "id": "cfbaad4b-5f4e-4c91-b98e-564024109447",
   "metadata": {
    "vscode": {
     "languageId": "r"
    }
   },
   "outputs": [],
   "source": [
    "names <- colnames(fullmat)\n",
    "x <- strsplit(names,\"[.]\")\n",
    "Sample <- sapply(x, \"[\", 2)\n",
    "corner(Sample)\n",
    "meta <- data.frame(Sample)\n",
    "row.names(meta) <- names\n",
    "meta$cell_id <- row.names(meta)\n",
    "corner(meta)\n",
    "dim(meta)"
   ]
  },
  {
   "cell_type": "code",
   "execution_count": null,
   "id": "b4636a95-e399-408f-b826-cea4ad7249ad",
   "metadata": {
    "vscode": {
     "languageId": "r"
    }
   },
   "outputs": [],
   "source": [
    "df <- data.frame(\n",
    "    Sample = names(l_raw),\n",
    "    SampleName = c(\"KO1\", \"KO2\", \"WT1\", \"WT2\"))\n",
    "head(df)"
   ]
  },
  {
   "cell_type": "code",
   "execution_count": null,
   "id": "e47f68be-c416-44df-8651-271fc04dbf74",
   "metadata": {
    "vscode": {
     "languageId": "r"
    }
   },
   "outputs": [],
   "source": [
    "meta2 <- left_join(meta, df, by = \"Sample\")\n",
    "row.names(meta2) <- meta2$cell_id\n",
    "head(meta2)"
   ]
  },
  {
   "cell_type": "markdown",
   "id": "a0b56be8-35a9-4b63-8eec-eff94e3dae4c",
   "metadata": {},
   "source": [
    "## create Seurat Object"
   ]
  },
  {
   "cell_type": "code",
   "execution_count": null,
   "id": "696fd716-1a7e-401d-9289-8dcb320dad84",
   "metadata": {
    "vscode": {
     "languageId": "r"
    }
   },
   "outputs": [],
   "source": [
    "seur <- CreateSeuratObject(fullmat, meta.data = meta2, min.cells = 3, min.features = 200)"
   ]
  },
  {
   "cell_type": "code",
   "execution_count": null,
   "id": "cad915ae-2838-4bfb-9c11-e342cc267db5",
   "metadata": {
    "vscode": {
     "languageId": "r"
    }
   },
   "outputs": [],
   "source": [
    "seur[[\"percent.mt\"]] <- PercentageFeatureSet(seur, pattern = \"^mt-\")"
   ]
  },
  {
   "cell_type": "markdown",
   "id": "d6af28b4-454c-4ca3-8184-3f788a302181",
   "metadata": {},
   "source": [
    "## Inspect QC matrix"
   ]
  },
  {
   "cell_type": "code",
   "execution_count": null,
   "id": "72906382-c8dc-46ea-bd54-e154c89ff83a",
   "metadata": {
    "vscode": {
     "languageId": "r"
    }
   },
   "outputs": [],
   "source": [
    "Idents(seur) <- \"SampleName\"\n",
    "meta <- seur@meta.data\n",
    "meta$log10_nFeature_RNA <- log(meta$nFeature_RNA, 10)\n",
    "meta$log10_nCount_RNA <- log(meta$nCount_RNA, 10)\n",
    "head(meta)\n",
    "\n",
    "nfeat <- ggplot(meta, aes(x=SampleName, y=log10_nFeature_RNA, fill=SampleName)) + \n",
    "  geom_violin(trim=FALSE, scale = 'width')+\n",
    "  geom_boxplot(width=0.1, fill=\"white\", outlier.size = 0.2) + theme_classic() + theme(text = element_text(size = 15), axis.text.x = element_text(angle = 90, vjust = 0.5, hjust=1))\n",
    "\n",
    "ncount <- ggplot(meta, aes(x=SampleName, y=log10_nCount_RNA, fill=SampleName)) + \n",
    "  geom_violin(trim=FALSE, scale = 'width')+\n",
    "  geom_boxplot(width=0.1, fill=\"white\", outlier.size = 0.2) + theme_classic() + theme(text = element_text(size = 15), axis.text.x = element_text(angle = 90, vjust = 0.5, hjust=1)) \n",
    "\n",
    "pct.mt <- ggplot(meta, aes(x=SampleName, y=percent.mt, fill=SampleName)) + \n",
    "  geom_violin(trim=FALSE, scale = 'width')+\n",
    "  geom_boxplot(width=0.1, fill=\"white\", outlier.size = 0.2) + theme_classic() + theme(text = element_text(size = 15), axis.text.x = element_text(angle = 90, vjust = 0.5, hjust=1))"
   ]
  },
  {
   "cell_type": "code",
   "execution_count": null,
   "id": "8ab25709-cca5-4f81-8e2b-6f35dd55758e",
   "metadata": {
    "vscode": {
     "languageId": "r"
    }
   },
   "outputs": [],
   "source": [
    "options(repr.plot.width=10, repr.plot.height=5)\n",
    "nfeat"
   ]
  },
  {
   "cell_type": "code",
   "execution_count": null,
   "id": "9a306803-4938-4610-a973-ca4aa94c7107",
   "metadata": {
    "vscode": {
     "languageId": "r"
    }
   },
   "outputs": [],
   "source": [
    "ncount"
   ]
  },
  {
   "cell_type": "code",
   "execution_count": null,
   "id": "28beab72-a005-4aac-a42c-96f757ecb5d0",
   "metadata": {
    "vscode": {
     "languageId": "r"
    }
   },
   "outputs": [],
   "source": [
    "pct.mt"
   ]
  },
  {
   "cell_type": "markdown",
   "id": "719ffef0-353e-45b1-9d2a-88d7b9300fa5",
   "metadata": {},
   "source": [
    "## calculate median percentager mitocondria for each sample and filter accordingly"
   ]
  },
  {
   "cell_type": "code",
   "execution_count": null,
   "id": "3bd572b5-535c-4d4e-a429-e8fd7215fdc1",
   "metadata": {
    "vscode": {
     "languageId": "r"
    }
   },
   "outputs": [],
   "source": [
    "# first inspect median values of percentage mitrocondria in each sample"
   ]
  },
  {
   "cell_type": "code",
   "execution_count": null,
   "id": "b3033167-c3c0-4f0c-b31f-df05b854ed0f",
   "metadata": {
    "vscode": {
     "languageId": "r"
    }
   },
   "outputs": [],
   "source": [
    "samples <- c(\"KO1\", \"KO2\", \"WT1\", \"WT2\")\n",
    "metadata <- seur[[]]\n",
    "# Initialize an empty vector to store the medians\n",
    "med_mt <- c()\n",
    "\n",
    "# Loop through each sample and calculate the median percent.mt\n",
    "for (i in samples) {\n",
    "  # Subset the metadata based on the sample name\n",
    "  data = metadata[metadata$SampleName == i, ]\n",
    "  \n",
    "  # Calculate the median of the 'percent.mt' column\n",
    "  median_val = median(data$percent.mt)\n",
    "  \n",
    "  # Append the median to the med_mt vector\n",
    "  med_mt = c(med_mt, median_val)\n",
    "}\n",
    "    "
   ]
  },
  {
   "cell_type": "code",
   "execution_count": null,
   "id": "2a2acc02-6085-4af2-b801-00b237abf7be",
   "metadata": {
    "vscode": {
     "languageId": "r"
    }
   },
   "outputs": [],
   "source": [
    "med_mt"
   ]
  },
  {
   "cell_type": "markdown",
   "id": "975b54dc-0d5b-4db5-8218-e84f55c92b99",
   "metadata": {},
   "source": [
    "#### filter out percent.mt > 6.5"
   ]
  },
  {
   "cell_type": "code",
   "execution_count": null,
   "id": "3add832a-3beb-4715-94fe-c21566f0f5b6",
   "metadata": {
    "vscode": {
     "languageId": "r"
    }
   },
   "outputs": [],
   "source": [
    "seur <- subset(seur, subset = percent.mt < 6.5)\n",
    "table(seur$SampleName)"
   ]
  },
  {
   "cell_type": "code",
   "execution_count": null,
   "id": "22ed44ed-2063-47cf-b035-271aabe13d09",
   "metadata": {
    "vscode": {
     "languageId": "r"
    }
   },
   "outputs": [],
   "source": [
    "seur$experimental_groups <- ifelse(seur$SampleName == \"KO1\" | seur$SampleName == \"KO2\", \"KO_group\", \"WT_group\")"
   ]
  },
  {
   "cell_type": "code",
   "execution_count": null,
   "id": "a8b5207d-0d4f-4c5a-8402-bfe809e285c5",
   "metadata": {
    "vscode": {
     "languageId": "r"
    }
   },
   "outputs": [],
   "source": [
    "table(seur$experimental_groups)"
   ]
  },
  {
   "cell_type": "code",
   "execution_count": null,
   "id": "81a82fd2-7bf7-41a0-a0e1-5e87eb33cbbe",
   "metadata": {
    "vscode": {
     "languageId": "r"
    }
   },
   "outputs": [],
   "source": [
    "saveRDS(seur, \"GEX_Allsamples_qc_filtered.RDS\")"
   ]
  },
  {
   "cell_type": "code",
   "execution_count": null,
   "id": "e2683503-fd60-44e1-b547-e9573c2ba3e7",
   "metadata": {
    "vscode": {
     "languageId": "r"
    }
   },
   "outputs": [],
   "source": [
    "dim(seur)"
   ]
  },
  {
   "cell_type": "markdown",
   "id": "3c8e3f9a-55f6-4776-ab3d-9aca6771ddb8",
   "metadata": {
    "tags": []
   },
   "source": [
    "# <span style=\"color:green\"> Part 2-a: Normalize, scale, dimention reduction, batch correction, and cluster <span>"
   ]
  },
  {
   "cell_type": "code",
   "execution_count": null,
   "id": "d180add2-b430-408e-b954-968d76bd9b86",
   "metadata": {
    "vscode": {
     "languageId": "r"
    }
   },
   "outputs": [],
   "source": [
    "seur <- NormalizeData(seur) %>% FindVariableFeatures(selection.method = \"vst\") %>% ScaleData() %>% RunPCA(verbose = F)"
   ]
  },
  {
   "cell_type": "markdown",
   "id": "b309973a-8f70-46e5-856b-084275f7240c",
   "metadata": {},
   "source": [
    "### Correct batch effect with Harmony and run UMAP"
   ]
  },
  {
   "cell_type": "code",
   "execution_count": null,
   "id": "d3de5eac-a1af-4613-9085-d1d9d322abbb",
   "metadata": {
    "collapsed": true,
    "jupyter": {
     "outputs_hidden": true
    },
    "tags": [],
    "vscode": {
     "languageId": "r"
    }
   },
   "outputs": [],
   "source": [
    "seur <- RunHarmony(seur, group.by.vars = \"SampleName\", verbose = F) "
   ]
  },
  {
   "cell_type": "markdown",
   "id": "3e55b79d-cd91-460e-8a62-5c6b0e47ffcc",
   "metadata": {},
   "source": [
    "### Find clusters"
   ]
  },
  {
   "cell_type": "code",
   "execution_count": null,
   "id": "226e1fbf-89a3-4bc1-8395-31757b7ca234",
   "metadata": {
    "vscode": {
     "languageId": "r"
    }
   },
   "outputs": [],
   "source": [
    "seur <- FindNeighbors(seur, reduction = \"harmony\", dims = 1:50) %>% FindClusters(resolution = 0.2) %>% RunUMAP(reduction = \"harmony\", dims = 1:50)\n"
   ]
  },
  {
   "cell_type": "code",
   "execution_count": null,
   "id": "8546b343-31b5-4325-9ccd-4fcaa7546e36",
   "metadata": {
    "vscode": {
     "languageId": "r"
    }
   },
   "outputs": [],
   "source": [
    "options(repr.plot.width = 12, repr.plot.height = 12)\n",
    "one <- DimPlot(seur, group.by = \"SampleName\")\n",
    "two <- DimPlot(seur, group.by = \"experimental_groups\", cols = c(\"darkred\", \"grey\"))\n",
    "three <- DimPlot(seur, label = T)\n",
    "four <- FeaturePlot(seur, features = \"Carm1\")\n",
    "ggarrange(one, two, three, four)"
   ]
  },
  {
   "cell_type": "markdown",
   "id": "aca75db8-5f5c-475e-b7b6-68d89a1e3e76",
   "metadata": {
    "tags": []
   },
   "source": [
    "# <span style=\"color:green\"> Part 2-b: Cell type annotation <span>\n"
   ]
  },
  {
   "cell_type": "code",
   "execution_count": null,
   "id": "10f8b851-469d-4b0c-9f17-04e2c7c05ecb",
   "metadata": {
    "vscode": {
     "languageId": "r"
    }
   },
   "outputs": [],
   "source": [
    "signatures <- c(\"Tcf4\", \"Bst2\",  \"Ifitm2\", \"Ifitm3\",\"Ifitm1\",\"Ptprc\", \"Mki67\",\"Top2a\", \"Xcr1\", \"Irf8\", \"Clec9a\", \"Itgae\", \"Batf3\", \"Itgam\", \"Sirpa\",  \"Cmss1\",\"Cd209a\", \"Fcgr3\", \"Lyz2\",  \"Cd7\", \"Zbtb46\", \"Ccr7\", \"Irf4\",  \"Cd3d\", \"Trbc2\", \"Gzmb\")\n"
   ]
  },
  {
   "cell_type": "code",
   "execution_count": null,
   "id": "0b16df3c-b622-4e08-bf07-121608ea14fe",
   "metadata": {
    "vscode": {
     "languageId": "r"
    }
   },
   "outputs": [],
   "source": [
    "options(repr.plot.width = 12, repr.plot.height = 8)\n",
    "\n",
    "DotPlot(seur, features = signatures, assay = \"RNA\", dot.scale = 18, cols = c(\"white\",\"red\")) + theme_classic(base_size = 20) + geom_point(aes(size = pct.exp),shape = 21, color = \"grey\",stroke = 0.5) + scale_colour_gradient2(low = \"#4575b4\", mid = \"white\", high = \"#d73027\") + theme(axis.text.x = element_text(angle = 45, vjust = 1, hjust=1))\n"
   ]
  },
  {
   "cell_type": "code",
   "execution_count": null,
   "id": "d63197e3-9b13-4ef8-82d3-1303ca606ebd",
   "metadata": {
    "vscode": {
     "languageId": "r"
    }
   },
   "outputs": [],
   "source": [
    "table(seur$seurat_clusters)"
   ]
  },
  {
   "cell_type": "code",
   "execution_count": null,
   "id": "eb746eb7-6ee0-4358-b9c4-d6307a2a47cc",
   "metadata": {
    "vscode": {
     "languageId": "r"
    }
   },
   "outputs": [],
   "source": [
    "# 0, cDC1\n",
    "# 1, cycling DC \n",
    "# 2, INF_DC?\n",
    "# 3, activated cDC\n",
    "# 4, cDC2  \n",
    "# 5, T cells contaminant\n"
   ]
  },
  {
   "cell_type": "code",
   "execution_count": null,
   "id": "5f766118-026b-429f-b15d-85f773c41566",
   "metadata": {
    "vscode": {
     "languageId": "r"
    }
   },
   "outputs": [],
   "source": [
    "saveRDS(seur, \"GEX_Allsample_clustered.RDS\")\n"
   ]
  },
  {
   "cell_type": "markdown",
   "id": "2df8eae5-e239-4253-940b-943a03a8ff93",
   "metadata": {},
   "source": [
    "## find all markers with two sided Wilcoxon rank-sum test "
   ]
  },
  {
   "cell_type": "code",
   "execution_count": null,
   "id": "2de61346-2e01-40d3-9a57-f18121dbe9d5",
   "metadata": {
    "vscode": {
     "languageId": "r"
    }
   },
   "outputs": [],
   "source": [
    "All_markers_wlcx <- FindAllMarkers(seur, assay = \"RNA\", only.pos = TRUE,  min.pct = 0.25, logfc.threshold = 0.25)"
   ]
  },
  {
   "cell_type": "code",
   "execution_count": null,
   "id": "9e959ded-2e21-4706-910d-4172875973e0",
   "metadata": {
    "vscode": {
     "languageId": "r"
    }
   },
   "outputs": [],
   "source": [
    "# faster implementation for the wilcoxon rank test\n",
    "# devtools::install_github('immunogenomics/presto')"
   ]
  },
  {
   "cell_type": "code",
   "execution_count": null,
   "id": "c2336ddc-8503-4e78-8033-93557f7642ca",
   "metadata": {
    "collapsed": true,
    "jupyter": {
     "outputs_hidden": true
    },
    "tags": [],
    "vscode": {
     "languageId": "r"
    }
   },
   "outputs": [],
   "source": [
    "# inspect top 10 markers\n",
    "All_markers_wlcx %>% group_by(cluster) %>% top_n(n = 10, wt = avg_log2FC)"
   ]
  },
  {
   "cell_type": "code",
   "execution_count": null,
   "id": "8f880d66-0105-43f3-96ff-366a75b0b98e",
   "metadata": {
    "vscode": {
     "languageId": "r"
    }
   },
   "outputs": [],
   "source": [
    "table(seur$SampleName)"
   ]
  },
  {
   "cell_type": "markdown",
   "id": "5f43f2b0-124c-4285-8537-43de29eb2d25",
   "metadata": {
    "tags": []
   },
   "source": [
    "# <span style=\"color:green\"> Part 2-c: Remove T cell contaminants (cluster 5) <span>"
   ]
  },
  {
   "cell_type": "code",
   "execution_count": null,
   "id": "99392129-b140-40dd-8765-c1886f319c81",
   "metadata": {
    "vscode": {
     "languageId": "r"
    }
   },
   "outputs": [],
   "source": [
    "table(Idents(seur))"
   ]
  },
  {
   "cell_type": "code",
   "execution_count": null,
   "id": "3b1795fc-c0bf-4b6e-8ded-8caf624e5328",
   "metadata": {
    "vscode": {
     "languageId": "r"
    }
   },
   "outputs": [],
   "source": [
    "metadata <- seur[[]]\n",
    "contamID <- rownames(metadata[metadata$seurat_clusters == 5,])"
   ]
  },
  {
   "cell_type": "code",
   "execution_count": null,
   "id": "7ceb1398-0d5a-4e21-a242-cfe743a3691d",
   "metadata": {
    "vscode": {
     "languageId": "r"
    }
   },
   "outputs": [],
   "source": [
    "head(contamID)\n",
    "length(contamID)"
   ]
  },
  {
   "cell_type": "code",
   "execution_count": null,
   "id": "6097ec69-2781-4e47-866d-93e5a0a559a6",
   "metadata": {
    "vscode": {
     "languageId": "r"
    }
   },
   "outputs": [],
   "source": [
    "seur <- subset(seur, cells = contamID, invert = TRUE) "
   ]
  },
  {
   "cell_type": "code",
   "execution_count": null,
   "id": "bb45158a-8187-415a-982e-024aaa9861e2",
   "metadata": {
    "vscode": {
     "languageId": "r"
    }
   },
   "outputs": [],
   "source": [
    "dim(seur)"
   ]
  },
  {
   "cell_type": "code",
   "execution_count": null,
   "id": "b844fb18-c646-40d0-aac1-0ed7d1dcca7a",
   "metadata": {
    "vscode": {
     "languageId": "r"
    }
   },
   "outputs": [],
   "source": [
    "saveRDS(seur, \"GEX_CLEANEDsamples_qc_filtered\")"
   ]
  },
  {
   "cell_type": "markdown",
   "id": "c9e83c76",
   "metadata": {},
   "source": [
    "# <span style=\"color:green\"> Part 2-c (cont):Re-QC, normalize and cluster since some cells are being removed"
   ]
  },
  {
   "cell_type": "markdown",
   "id": "e45bb4df",
   "metadata": {},
   "source": [
    "## Inspect QC matrix "
   ]
  },
  {
   "cell_type": "code",
   "execution_count": null,
   "id": "2f2ef4ed",
   "metadata": {
    "vscode": {
     "languageId": "r"
    }
   },
   "outputs": [],
   "source": [
    "seur <- readRDS(\"GEX_CLEANEDsamples_qc_filtered\")\n",
    "\n",
    "Idents(seur) <- \"SampleName\"\n",
    "meta <- seur@meta.data\n",
    "meta$log10_nFeature_RNA <- log(meta$nFeature_RNA, 10)\n",
    "meta$log10_nCount_RNA <- log(meta$nCount_RNA, 10)\n",
    "head(meta)\n",
    "\n",
    "nfeat <- ggplot(meta, aes(x=SampleName, y=log10_nFeature_RNA, fill=SampleName)) + \n",
    "  geom_violin(trim=FALSE, scale = 'width')+\n",
    "  geom_boxplot(width=0.1, fill=\"white\", outlier.size = 0.2) + theme_classic() + theme(text = element_text(size = 15), axis.text.x = element_text(angle = 90, vjust = 0.5, hjust=1))\n",
    "\n",
    "ncount <- ggplot(meta, aes(x=SampleName, y=log10_nCount_RNA, fill=SampleName)) + \n",
    "  geom_violin(trim=FALSE, scale = 'width')+\n",
    "  geom_boxplot(width=0.1, fill=\"white\", outlier.size = 0.2) + theme_classic() + theme(text = element_text(size = 15), axis.text.x = element_text(angle = 90, vjust = 0.5, hjust=1)) \n",
    "\n",
    "pct.mt <- ggplot(meta, aes(x=SampleName, y=percent.mt, fill=SampleName)) + \n",
    "  geom_violin(trim=FALSE, scale = 'width')+\n",
    "  geom_boxplot(width=0.1, fill=\"white\", outlier.size = 0.2) + theme_classic() + theme(text = element_text(size = 15), axis.text.x = element_text(angle = 90, vjust = 0.5, hjust=1))"
   ]
  },
  {
   "cell_type": "code",
   "execution_count": null,
   "id": "d405929a",
   "metadata": {
    "vscode": {
     "languageId": "r"
    }
   },
   "outputs": [],
   "source": [
    "options(repr.plot.width=15, repr.plot.height=10)\n",
    "one <- nfeat\n",
    "two <- ncount\n",
    "three <- pct.mt\n",
    "ggarrange(one, two, three)"
   ]
  },
  {
   "cell_type": "code",
   "execution_count": null,
   "id": "af3132b8",
   "metadata": {
    "vscode": {
     "languageId": "r"
    }
   },
   "outputs": [],
   "source": [
    "min(seur$nFeature_RNA)"
   ]
  },
  {
   "cell_type": "code",
   "execution_count": null,
   "id": "f1190227",
   "metadata": {
    "vscode": {
     "languageId": "r"
    }
   },
   "outputs": [],
   "source": [
    "max(seur$percent.mt)"
   ]
  },
  {
   "cell_type": "code",
   "execution_count": null,
   "id": "f29cea66",
   "metadata": {
    "vscode": {
     "languageId": "r"
    }
   },
   "outputs": [],
   "source": [
    "median(seur$percent.mt)"
   ]
  },
  {
   "cell_type": "code",
   "execution_count": null,
   "id": "9b98e117",
   "metadata": {
    "vscode": {
     "languageId": "r"
    }
   },
   "outputs": [],
   "source": [
    "table(seur@meta.data$SampleName)"
   ]
  },
  {
   "cell_type": "markdown",
   "id": "e417336f",
   "metadata": {},
   "source": [
    "##  Normalize with LogNorm, scale and run PCA <span>"
   ]
  },
  {
   "cell_type": "code",
   "execution_count": null,
   "id": "22b16f3a",
   "metadata": {
    "vscode": {
     "languageId": "r"
    }
   },
   "outputs": [],
   "source": [
    "seur <- NormalizeData(seur) %>% FindVariableFeatures(selection.method = \"vst\") %>% ScaleData() %>% RunPCA(verbose = F)\n"
   ]
  },
  {
   "cell_type": "markdown",
   "id": "a34f6e0c",
   "metadata": {},
   "source": [
    "## Correct batch effect with Harmony and run UMAP"
   ]
  },
  {
   "cell_type": "code",
   "execution_count": null,
   "id": "19482daf",
   "metadata": {
    "vscode": {
     "languageId": "r"
    }
   },
   "outputs": [],
   "source": [
    "seur <- RunHarmony(seur, group.by.vars = \"SampleName\", verbose = F) %>% RunUMAP(reduction = \"harmony\", dims = 1:40)\n"
   ]
  },
  {
   "cell_type": "markdown",
   "id": "65af3646",
   "metadata": {},
   "source": [
    "## Find clusters"
   ]
  },
  {
   "cell_type": "code",
   "execution_count": null,
   "id": "1bcaa94e",
   "metadata": {
    "vscode": {
     "languageId": "r"
    }
   },
   "outputs": [],
   "source": [
    "seur <- FindNeighbors(seur, reduction = \"harmony\", dims = 1:40) %>% FindClusters(resolution = 0.1)\n"
   ]
  },
  {
   "cell_type": "code",
   "execution_count": null,
   "id": "c87abb4b",
   "metadata": {
    "vscode": {
     "languageId": "r"
    }
   },
   "outputs": [],
   "source": [
    "options(repr.plot.width = 12, repr.plot.height = 12)\n",
    "one <- DimPlot(seur, group.by = \"SampleName\")\n",
    "two <- DimPlot(seur, group.by = \"experimental_groups\", cols = c(\"darkred\", \"grey\"))\n",
    "three <- DimPlot(seur, label = T)\n",
    "four <- FeaturePlot(seur, features = \"Carm1\")\n",
    "ggarrange(one, two, three, four)"
   ]
  },
  {
   "cell_type": "code",
   "execution_count": null,
   "id": "e50374ba",
   "metadata": {
    "vscode": {
     "languageId": "r"
    }
   },
   "outputs": [],
   "source": [
    "table(seur$experimental_groups)"
   ]
  },
  {
   "cell_type": "markdown",
   "id": "41ff3305",
   "metadata": {},
   "source": [
    "# <span style=\"color:green\"> Part 2-c (cont): Cell type annotation2 <span>"
   ]
  },
  {
   "cell_type": "code",
   "execution_count": null,
   "id": "6db980ca",
   "metadata": {
    "vscode": {
     "languageId": "r"
    }
   },
   "outputs": [],
   "source": [
    "signatures <- c(\"Tcf4\", \"Bst2\",  \"Ifitm2\", \"Ifitm3\",\"Ifitm1\",\"Ptprc\", \"Mki67\",\"Top2a\", \"Xcr1\", \"Irf8\", \"Clec9a\", \"Itgae\", \"Batf3\", \"Itgam\", \"Sirpa\",  \"Cmss1\",\"Cd209a\", \"Fcgr3\", \"Lyz2\",  \"Cd7\", \"Zbtb46\", \"Ccr7\")\n"
   ]
  },
  {
   "cell_type": "code",
   "execution_count": null,
   "id": "26b7409a",
   "metadata": {
    "vscode": {
     "languageId": "r"
    }
   },
   "outputs": [],
   "source": [
    "options(repr.plot.width = 12, repr.plot.height = 8)\n",
    "\n",
    "DotPlot(seur, features = signatures, assay = \"RNA\", dot.scale = 18, cols = c(\"white\",\"red\")) + theme_classic(base_size = 20) + geom_point(aes(size = pct.exp),shape = 21, color = \"grey\",stroke = 0.5) + scale_colour_gradient2(low = \"#4575b4\", mid = \"white\", high = \"#d73027\") + theme(axis.text.x = element_text(angle = 45, vjust = 1, hjust=1))\n"
   ]
  },
  {
   "cell_type": "code",
   "execution_count": null,
   "id": "a82f65a0",
   "metadata": {
    "vscode": {
     "languageId": "r"
    }
   },
   "outputs": [],
   "source": [
    "table(seur$seurat_clusters)"
   ]
  },
  {
   "cell_type": "code",
   "execution_count": null,
   "id": "b5c64cb5",
   "metadata": {
    "vscode": {
     "languageId": "r"
    }
   },
   "outputs": [],
   "source": [
    "# 0, cDC1\n",
    "# 1, cycling DC1 \n",
    "# 2, Ribosomal-high\n",
    "# 3, cDC2\n",
    "# 4, activated cDC1 \n"
   ]
  },
  {
   "cell_type": "markdown",
   "id": "8dc39f2e",
   "metadata": {},
   "source": [
    "## find all markers with two-sided Wilcoxon rank-sum test "
   ]
  },
  {
   "cell_type": "code",
   "execution_count": null,
   "id": "c1e03e2c",
   "metadata": {
    "vscode": {
     "languageId": "r"
    }
   },
   "outputs": [],
   "source": [
    "All_markers_wlcx <- FindAllMarkers(seur, assay = \"RNA\", only.pos = TRUE,  min.pct = 0.25, logfc.threshold = 0.25)"
   ]
  },
  {
   "cell_type": "code",
   "execution_count": null,
   "id": "ef5269e7",
   "metadata": {
    "vscode": {
     "languageId": "r"
    }
   },
   "outputs": [],
   "source": [
    "# inspect top 10 markers\n",
    "All_markers_wlcx %>% group_by(cluster) %>% top_n(n = 10, wt = avg_log2FC)"
   ]
  },
  {
   "cell_type": "markdown",
   "id": "c7338271",
   "metadata": {},
   "source": [
    "## Annotate cell types"
   ]
  },
  {
   "cell_type": "code",
   "execution_count": null,
   "id": "536e9f51",
   "metadata": {
    "vscode": {
     "languageId": "r"
    }
   },
   "outputs": [],
   "source": [
    "celltype <- c(\"DC1\", \"cycling_DC1\", \"rRNA_hi_DC\", \"DC2\", \"activated_DC1\")\n",
    "names(celltype) <- levels(seur)\n",
    "\n",
    "seur = RenameIdents(seur, celltype)"
   ]
  },
  {
   "cell_type": "code",
   "execution_count": null,
   "id": "c615ead6",
   "metadata": {
    "vscode": {
     "languageId": "r"
    }
   },
   "outputs": [],
   "source": [
    "table(Idents(seur))"
   ]
  },
  {
   "cell_type": "code",
   "execution_count": null,
   "id": "fc7f95e2",
   "metadata": {
    "vscode": {
     "languageId": "r"
    }
   },
   "outputs": [],
   "source": [
    "seur$celltype_annotation <- Idents(seur)"
   ]
  },
  {
   "cell_type": "code",
   "execution_count": null,
   "id": "bc0edbfc",
   "metadata": {
    "vscode": {
     "languageId": "r"
    }
   },
   "outputs": [],
   "source": [
    "saveRDS(seur, \"GEX_CLEANEDsamples_clustered.RDS\")"
   ]
  },
  {
   "cell_type": "markdown",
   "id": "1f83afc8",
   "metadata": {},
   "source": [
    "# <span style=\"color:green\">  Subset the Seurat object to DC1 because that's the focus of the study <span>"
   ]
  },
  {
   "cell_type": "code",
   "execution_count": null,
   "id": "e966f9a6",
   "metadata": {
    "vscode": {
     "languageId": "r"
    }
   },
   "outputs": [],
   "source": [
    "seur <- readRDS(\"GEX_CLEANEDsamples_clustered.RDS\")"
   ]
  },
  {
   "cell_type": "code",
   "execution_count": null,
   "id": "22f819f9",
   "metadata": {
    "vscode": {
     "languageId": "r"
    }
   },
   "outputs": [],
   "source": [
    "table(Idents(seur))"
   ]
  },
  {
   "cell_type": "code",
   "execution_count": null,
   "id": "92a4dcd2",
   "metadata": {
    "vscode": {
     "languageId": "r"
    }
   },
   "outputs": [],
   "source": [
    "seur <- subset(seur, idents = c(\"DC1\", \"cycling_DC1\", \"activated_DC1\"))\n"
   ]
  },
  {
   "cell_type": "code",
   "execution_count": null,
   "id": "14ad121f",
   "metadata": {
    "vscode": {
     "languageId": "r"
    }
   },
   "outputs": [],
   "source": [
    "meta <- seur[[]]\n",
    "meta$celltype <- \"cDC1\"\n",
    "# for later splitting change the variable names in experimental group\n",
    "meta$experimental_group <- ifelse(meta$experimental_group == \"KO_group\", \"KO\", \"WT\")"
   ]
  },
  {
   "cell_type": "code",
   "execution_count": null,
   "id": "bd5813e2",
   "metadata": {
    "vscode": {
     "languageId": "r"
    }
   },
   "outputs": [],
   "source": [
    "table(Idents(seur))"
   ]
  },
  {
   "cell_type": "markdown",
   "id": "81d12358",
   "metadata": {},
   "source": [
    "## Re normalize, correct batch effect, and find cluster in the DC1 seurat object "
   ]
  },
  {
   "cell_type": "code",
   "execution_count": null,
   "id": "2c6db6b1",
   "metadata": {
    "vscode": {
     "languageId": "r"
    }
   },
   "outputs": [],
   "source": [
    "seur <- NormalizeData(seur) %>% FindVariableFeatures(selection.method = \"vst\") %>% ScaleData() %>% RunPCA(verbose = F)\n"
   ]
  },
  {
   "cell_type": "code",
   "execution_count": null,
   "id": "2039f087",
   "metadata": {
    "vscode": {
     "languageId": "r"
    }
   },
   "outputs": [],
   "source": [
    "seur <- RunHarmony(seur, group.by.vars = \"SampleName\", verbose = F) %>% RunUMAP(reduction = \"harmony\", dims = 1:40)\n"
   ]
  },
  {
   "cell_type": "code",
   "execution_count": null,
   "id": "633a9c6a",
   "metadata": {
    "vscode": {
     "languageId": "r"
    }
   },
   "outputs": [],
   "source": [
    "seur <- FindNeighbors(seur, reduction = \"harmony\", dims = 1:40) %>% FindClusters(resolution = 0.1)\n"
   ]
  },
  {
   "cell_type": "code",
   "execution_count": null,
   "id": "893c68f6",
   "metadata": {
    "vscode": {
     "languageId": "r"
    }
   },
   "outputs": [],
   "source": [
    "options(repr.plot.width = 12, repr.plot.height = 12)\n",
    "one <- DimPlot(seur, group.by = \"SampleName\")\n",
    "two <- DimPlot(seur, group.by = \"experimental_groups\", cols = c(\"darkred\", \"grey\"))\n",
    "three <- DimPlot(seur, label = T)\n",
    "four <- DimPlot(seur, group.by = \"celltype_annotation\")\n",
    "ggarrange(one, two, three, four)"
   ]
  },
  {
   "cell_type": "markdown",
   "id": "1d6278df",
   "metadata": {},
   "source": [
    "## Cell type annotation in DC1 object"
   ]
  },
  {
   "cell_type": "code",
   "execution_count": null,
   "id": "9abbe0e1",
   "metadata": {
    "vscode": {
     "languageId": "r"
    }
   },
   "outputs": [],
   "source": [
    "signatures <- c(\"Mki67\",\"Irf4\",\"Irf8\", \"Xcr1\",\"Clec9a\",\"Relb\", \"Ccr7\", \"Sirpa\")\n",
    "\n"
   ]
  },
  {
   "cell_type": "code",
   "execution_count": null,
   "id": "e6fb47bf",
   "metadata": {
    "vscode": {
     "languageId": "r"
    }
   },
   "outputs": [],
   "source": [
    "options(repr.plot.width = 12, repr.plot.height = 8)\n",
    "\n",
    "DotPlot(seur, features = signatures, assay = \"RNA\", dot.scale = 12, cols = c(\"white\",\"red\")) + theme_classic(base_size = 12) + geom_point(aes(size = pct.exp),shape = 21, color = \"grey\",stroke = 0.5) + scale_colour_gradient2(low = \"#4575b4\", mid = \"white\", high = \"#d73027\") + theme(axis.text.x = element_text(angle = 45, vjust = 1, hjust=1))\n"
   ]
  },
  {
   "cell_type": "code",
   "execution_count": null,
   "id": "287b20ba",
   "metadata": {
    "vscode": {
     "languageId": "r"
    }
   },
   "outputs": [],
   "source": [
    "clusterID <- c(\"DC1\", \"cycling_DC1\", \"activated_DC1\")\n",
    "names(clusterID) <- levels(seur)\n",
    "seur <- RenameIdents(seur, clusterID)\n",
    "seur$celltype_annotation <- Idents(seur)"
   ]
  },
  {
   "cell_type": "code",
   "execution_count": null,
   "id": "4c30e123",
   "metadata": {
    "vscode": {
     "languageId": "r"
    }
   },
   "outputs": [],
   "source": [
    "table(Idents(seur))"
   ]
  },
  {
   "cell_type": "code",
   "execution_count": null,
   "id": "2cbf70e8",
   "metadata": {
    "vscode": {
     "languageId": "r"
    }
   },
   "outputs": [],
   "source": [
    "options(repr.plot.width = 12, repr.plot.height = 12)\n",
    "one <- DimPlot(seur, group.by = \"SampleName\")\n",
    "two <- DimPlot(seur, group.by = \"experimental_groups\", cols = c(\"darkred\", \"grey\"))\n",
    "three <- DimPlot(seur)\n",
    "ggarrange(one, two, three)"
   ]
  },
  {
   "cell_type": "code",
   "execution_count": null,
   "id": "fdbb6011",
   "metadata": {
    "vscode": {
     "languageId": "r"
    }
   },
   "outputs": [],
   "source": [
    "saveRDS(seur, \"GEX_cDC1_clustered.RDS\")"
   ]
  }
 ],
 "metadata": {
  "kernelspec": {
   "display_name": "R",
   "language": "R",
   "name": "ir"
  },
  "language_info": {
   "codemirror_mode": "r",
   "file_extension": ".r",
   "mimetype": "text/x-r-source",
   "name": "R",
   "pygments_lexer": "r",
   "version": "4.4.0"
  }
 },
 "nbformat": 4,
 "nbformat_minor": 5
}
