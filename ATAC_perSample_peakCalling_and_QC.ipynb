{
 "cells": [
  {
   "cell_type": "markdown",
   "id": "c24c1b84",
   "metadata": {
    "vscode": {
     "languageId": "r"
    }
   },
   "source": [
    "# Goals:\n",
    "## 1. Call common peaks from each sample so that there are no missing peaks in any sample when merging the data. \n",
    "## 2. Create chromatic assay object for each sample and QC"
   ]
  },
  {
   "cell_type": "code",
   "execution_count": null,
   "id": "efaee656-c375-4c75-ba97-f7920a177a46",
   "metadata": {
    "collapsed": true,
    "jupyter": {
     "outputs_hidden": true
    },
    "tags": [],
    "vscode": {
     "languageId": "r"
    }
   },
   "outputs": [],
   "source": [
    "library(Seurat)\n",
    "library(Signac)\n",
    "library(GenomeInfoDb)\n",
    "library(EnsDb.Mmusculus.v79)\n",
    "library(ggplot2)\n",
    "library(glue)\n",
    "library(scDblFinder)\n",
    "library(RColorBrewer)\n",
    "library(dplyr)\n",
    "library(ggridges)\n",
    "library(CopyscAT)\n",
    "library(BSgenome.Mmusculus.UCSC.mm10)\n",
    "library(GenomicRanges)\n",
    "library(future)\n",
    "set.seed(123)\n"
   ]
  },
  {
   "cell_type": "markdown",
   "id": "1dde836b",
   "metadata": {},
   "source": [
    "# <span style=\"color:green\"> Part 1 - Call common peaks and creat ATAC object<span>"
   ]
  },
  {
   "cell_type": "code",
   "execution_count": null,
   "id": "b04fbc70-b23f-486b-b3ff-a7931a9eee22",
   "metadata": {
    "vscode": {
     "languageId": "r"
    }
   },
   "outputs": [],
   "source": [
    "## setting up folder structure \n",
    "sample_id <- \"KO1\""
   ]
  },
  {
   "cell_type": "code",
   "execution_count": null,
   "id": "3f2a7a87-31d7-4b82-998c-98f42a82db0e",
   "metadata": {
    "vscode": {
     "languageId": "r"
    }
   },
   "outputs": [],
   "source": [
    "# create folders to store single sample processing outputs for each sample\n",
    "\n",
    "system(\"mkdir data\")\n",
    "system(\"mkdir data/single_sample_processing\")\n",
    "system(glue(\"mkdir data/single_sample_processing/{sample_id}\"))"
   ]
  },
  {
   "cell_type": "markdown",
   "id": "d182cfd4-7842-49e9-b905-12042256564c",
   "metadata": {},
   "source": [
    "## Filtering out \"non-cells\" based on CellRanger cell calling using CellRanger barcode output file"
   ]
  },
  {
   "cell_type": "code",
   "execution_count": null,
   "id": "c3f7989f-8bfb-447f-939f-a3b7add74e5f",
   "metadata": {
    "vscode": {
     "languageId": "r"
    }
   },
   "outputs": [],
   "source": [
    "barcodes <- read.table(glue('data/single_sample_processing/{sample_id}/cellranger/barcodes.tsv.gz'))"
   ]
  },
  {
   "cell_type": "code",
   "execution_count": null,
   "id": "f62f4273-c5d2-41cb-9169-f7f38a596f6e",
   "metadata": {
    "vscode": {
     "languageId": "r"
    }
   },
   "outputs": [],
   "source": [
    "head(barcodes)"
   ]
  },
  {
   "cell_type": "code",
   "execution_count": null,
   "id": "8f8d5210-cc2b-430a-8771-f2924a0e7c11",
   "metadata": {
    "vscode": {
     "languageId": "r"
    }
   },
   "outputs": [],
   "source": [
    "dim(barcodes)"
   ]
  },
  {
   "cell_type": "code",
   "execution_count": null,
   "id": "9e8629b7-e346-422c-9b65-940de046a1b9",
   "metadata": {
    "vscode": {
     "languageId": "r"
    }
   },
   "outputs": [],
   "source": [
    "# filter fragment file, this creates a new fragment file w/ name specified by outfile argument\n",
    "FilterCells(glue('data/single_sample_processing/{sample_id}/cellranger/atac_fragments.tsv.gz'), barcodes$V1, outfile = glue('data/single_sample_processing/{sample_id}/cellranger/fragments.filtered.tsv.gz'))\n"
   ]
  },
  {
   "cell_type": "markdown",
   "id": "dfa645f6-0f0a-4892-abab-7ad7c09f6703",
   "metadata": {},
   "source": [
    "## Create matrix of peaks X cells using a set of common peaks  "
   ]
  },
  {
   "cell_type": "markdown",
   "id": "24883ebf-1d47-4b29-a874-7d658d559403",
   "metadata": {},
   "source": [
    "### Call peaks for each sample"
   ]
  },
  {
   "cell_type": "code",
   "execution_count": null,
   "id": "f0eb1177-9781-4346-b5b6-785bd2daefda",
   "metadata": {
    "collapsed": true,
    "jupyter": {
     "outputs_hidden": true
    },
    "tags": [],
    "vscode": {
     "languageId": "r"
    }
   },
   "outputs": [],
   "source": [
    "# downloading packages \n",
    "\n",
    "system('pip install macs2', intern = TRUE)\n",
    "system('pip install numpy==1.21.6', intern = TRUE)\n",
    "system('which macs2', intern = TRUE)"
   ]
  },
  {
   "cell_type": "code",
   "execution_count": null,
   "id": "9500c1b4-d6f0-4178-8205-002ed9ff019e",
   "metadata": {
    "vscode": {
     "languageId": "r"
    }
   },
   "outputs": [],
   "source": [
    "samples <- c(\"KO1\", \"KO2\", \"WT1\", \"WT2\")"
   ]
  },
  {
   "cell_type": "code",
   "execution_count": null,
   "id": "2f0b5efc-0f94-45f7-b3f4-229653cf7e36",
   "metadata": {
    "vscode": {
     "languageId": "r"
    }
   },
   "outputs": [],
   "source": [
    "for (sample_id in samples) {\n",
    "    # Create the file path using glue\n",
    "    fragment_file_path <- glue('data/single_sample_processing/{sample_id}/cellranger/fragments.filtered.tsv.gz')\n",
    "    \n",
    "    # Dynamically assign the output of CallPeaks to a variable with the name \"peaks_<sample_id>\"\n",
    "    assign(glue(\"peaks_{sample_id}\"), CallPeaks(\n",
    "        object = fragment_file_path,\n",
    "        macs2.path = '/home/jupyter/.local/bin/macs2'\n",
    "    ))\n",
    "}"
   ]
  },
  {
   "cell_type": "code",
   "execution_count": null,
   "id": "9659b76d-0c8d-4166-8953-ebb52672242f",
   "metadata": {
    "collapsed": true,
    "jupyter": {
     "outputs_hidden": true
    },
    "tags": [],
    "vscode": {
     "languageId": "r"
    }
   },
   "outputs": [],
   "source": [
    "peaks_WT2\n"
   ]
  },
  {
   "cell_type": "code",
   "execution_count": null,
   "id": "13052e66-2ad4-4ca1-8c2c-2c0f9ef24cf9",
   "metadata": {
    "collapsed": true,
    "jupyter": {
     "outputs_hidden": true
    },
    "tags": [],
    "vscode": {
     "languageId": "r"
    }
   },
   "outputs": [],
   "source": [
    "peaks_KO2"
   ]
  },
  {
   "cell_type": "markdown",
   "id": "2c55d5a4-5400-4fd3-825c-b764bb0a4c9f",
   "metadata": {},
   "source": [
    "## Create a unified/common set of peaks to quantify in each dataset"
   ]
  },
  {
   "cell_type": "code",
   "execution_count": null,
   "id": "5801cee4-9b81-4951-b06d-1bbc8e4f5f96",
   "metadata": {
    "vscode": {
     "languageId": "r"
    }
   },
   "outputs": [],
   "source": [
    "combined_peaks  <- reduce(x = c(peaks_KO1, peaks_KO2, peaks_WT1, peaks_WT2))\n"
   ]
  },
  {
   "cell_type": "code",
   "execution_count": null,
   "id": "765781ea-d48a-4616-89ad-8834778216bf",
   "metadata": {
    "vscode": {
     "languageId": "r"
    }
   },
   "outputs": [],
   "source": [
    "combined_peaks"
   ]
  },
  {
   "cell_type": "markdown",
   "id": "cf27e081-73ca-462e-acdd-eb4587f005cd",
   "metadata": {},
   "source": [
    "##  Create Fragment Object for each sample "
   ]
  },
  {
   "cell_type": "code",
   "execution_count": null,
   "id": "a20fd49d-546c-4b96-b3bd-bb14e0872287",
   "metadata": {
    "vscode": {
     "languageId": "r"
    }
   },
   "outputs": [],
   "source": [
    "for (sample_id in samples){\n",
    "    fragment_file_path = glue('data/single_sample_processing/{sample_id}/cellranger/fragments.filtered.tsv.gz')\n",
    "    \n",
    "    assign(glue(\"fragments_{sample_id}\"), CreateFragmentObject(fragment_file_path))\n",
    "}\n"
   ]
  },
  {
   "cell_type": "markdown",
   "id": "7b7b8cee-9006-47d4-9253-e1b4f687066b",
   "metadata": {},
   "source": [
    "## Create a matrix of peaks x cell for each sample using combined_peaks "
   ]
  },
  {
   "cell_type": "code",
   "execution_count": null,
   "id": "229a4aa1-e700-4e06-9485-c7bc135bfa3b",
   "metadata": {
    "tags": [],
    "vscode": {
     "languageId": "r"
    }
   },
   "outputs": [],
   "source": [
    "for (sample_id in samples){\n",
    "    \n",
    "    # Retrieve fragment and peak objects by their names\n",
    "    fragments = get(glue(\"fragments_{sample_id}\"))\n",
    "    \n",
    "    assign(glue(\"counts_{sample_id}\"), FeatureMatrix(fragments, combined_peaks))\n",
    "\n",
    "}"
   ]
  },
  {
   "cell_type": "code",
   "execution_count": null,
   "id": "5e25c9f4-57a9-44f1-9dd4-8228eb42111a",
   "metadata": {
    "vscode": {
     "languageId": "r"
    }
   },
   "outputs": [],
   "source": [
    "dim(counts_KO1)\n",
    "dim(counts_KO2)\n",
    "dim(counts_WT1)\n",
    "dim(counts_WT2)"
   ]
  },
  {
   "cell_type": "markdown",
   "id": "772c68f6-5b7c-4ed6-83b2-92887cd79369",
   "metadata": {},
   "source": [
    "##  Construct chromatin assay - do this for each smaple by changing the smaple_id and fragment_file_path"
   ]
  },
  {
   "cell_type": "code",
   "execution_count": null,
   "id": "cb1b41f7-9332-4292-9d8f-8b63d1385887",
   "metadata": {
    "vscode": {
     "languageId": "r"
    }
   },
   "outputs": [],
   "source": [
    "sample_id <- \"KO1\" # change this for each sample\n",
    "fragment_file_path <- glue('data/single_sample_processing/{sample_id}/cellranger/fragments.filtered.tsv.gz')\n"
   ]
  },
  {
   "cell_type": "code",
   "execution_count": null,
   "id": "5926eef0-dde6-4ecc-b71b-5829535a9081",
   "metadata": {
    "vscode": {
     "languageId": "r"
    }
   },
   "outputs": [],
   "source": [
    "# all default parameters\n",
    "chrom_assay = CreateChromatinAssay(\n",
    "    counts = get(glue(\"counts_{sample_id}\")),\n",
    "    sep = c(\":\", \"-\"),\n",
    "    genome = 'mm10', #mice\n",
    "    fragments = get(glue(\"fragments_{sample_id}\")),\n",
    "    min.cells = 10,\n",
    "    min.features = 200)"
   ]
  },
  {
   "cell_type": "code",
   "execution_count": null,
   "id": "45a74164-1b39-454f-9ba4-e57733194da6",
   "metadata": {
    "vscode": {
     "languageId": "r"
    }
   },
   "outputs": [],
   "source": [
    "dim(chrom_assay)"
   ]
  },
  {
   "cell_type": "code",
   "execution_count": null,
   "id": "37e077fa-76e7-45c9-937e-fd8158b7a855",
   "metadata": {
    "vscode": {
     "languageId": "r"
    }
   },
   "outputs": [],
   "source": [
    "obj = CreateSeuratObject(\n",
    "    counts = chrom_assay,\n",
    "    assay = \"peaks\",\n",
    "    )"
   ]
  },
  {
   "cell_type": "code",
   "execution_count": null,
   "id": "09dd85b8-fdce-4427-bef9-976e380e1652",
   "metadata": {
    "vscode": {
     "languageId": "r"
    }
   },
   "outputs": [],
   "source": [
    "obj"
   ]
  },
  {
   "cell_type": "markdown",
   "id": "5cb824af-8fef-4e93-8207-c66e511ca3f9",
   "metadata": {},
   "source": [
    "### Add annotations"
   ]
  },
  {
   "cell_type": "code",
   "execution_count": null,
   "id": "0495a108-cc37-483d-b286-599cc4846dca",
   "metadata": {
    "collapsed": true,
    "jupyter": {
     "outputs_hidden": true
    },
    "tags": [],
    "vscode": {
     "languageId": "r"
    }
   },
   "outputs": [],
   "source": [
    "# extract gene annotations from EnsDb\n",
    "annotations <- GetGRangesFromEnsDb(ensdb = EnsDb.Mmusculus.v79)\n",
    "\n",
    "# change to UCSC style since the data was mapped to hg19\n",
    "seqlevels(annotations) <- paste0('chr', seqlevels(annotations))\n",
    "genome(annotations) <- \"mm10\"\n"
   ]
  },
  {
   "cell_type": "code",
   "execution_count": null,
   "id": "550c53ed-d65d-4571-abc8-441f5c48b2c7",
   "metadata": {
    "vscode": {
     "languageId": "r"
    }
   },
   "outputs": [],
   "source": [
    "# add the gene information to the object\n",
    "Annotation(obj) <- annotations "
   ]
  },
  {
   "cell_type": "code",
   "execution_count": null,
   "id": "aa5c7ff6-2dbe-4a41-b012-d099bb03f223",
   "metadata": {
    "vscode": {
     "languageId": "r"
    }
   },
   "outputs": [],
   "source": [
    "head(seqnames(obj))"
   ]
  },
  {
   "cell_type": "code",
   "execution_count": null,
   "id": "752b7dae-3243-4e5c-81fb-3985088b5833",
   "metadata": {
    "vscode": {
     "languageId": "r"
    }
   },
   "outputs": [],
   "source": [
    "saveRDS(obj, \"KO1_atac_Allcell_obj_cleaned.RDS\")\n"
   ]
  },
  {
   "cell_type": "code",
   "execution_count": null,
   "id": "ca623833-651f-4634-a5f3-01857b4a23bf",
   "metadata": {
    "vscode": {
     "languageId": "r"
    }
   },
   "outputs": [],
   "source": [
    "dim(obj)\n",
    "length(colnames(obj))"
   ]
  },
  {
   "cell_type": "markdown",
   "id": "67c2940a-7385-4ad1-b1ea-68551e41edbf",
   "metadata": {},
   "source": [
    "# <span style=\"color:green\"> Part 2a - QC:remove doublets. <span>\n",
    "Calling doublets for each sample one by one using scDblFinder. <br>\n",
    "documentation followed: https://www.bioconductor.org/packages//release/bioc/vignettes/scDblFinder/inst/doc/scDblFinder.html\n",
    "#some-important-parameters section"
   ]
  },
  {
   "cell_type": "markdown",
   "id": "58ef9bc4",
   "metadata": {},
   "source": [
    "## Call doublets"
   ]
  },
  {
   "cell_type": "code",
   "execution_count": null,
   "id": "5411b1b4-7599-49bc-a958-2a61cee48cf3",
   "metadata": {
    "vscode": {
     "languageId": "r"
    }
   },
   "outputs": [],
   "source": [
    "system(glue('mkdir data/single_sample_processing/{sample_id}/qc'))"
   ]
  },
  {
   "cell_type": "code",
   "execution_count": null,
   "id": "cf0d586e-f2a1-4244-b45d-f281e579f4fa",
   "metadata": {
    "vscode": {
     "languageId": "r"
    }
   },
   "outputs": [],
   "source": [
    "peak_assay <- GetAssayData(object = obj, assay = \"peaks\", layer = \"data\")\n"
   ]
  },
  {
   "cell_type": "code",
   "execution_count": null,
   "id": "01f74959-8b42-4e42-bdaf-b798d145fe21",
   "metadata": {
    "vscode": {
     "languageId": "r"
    }
   },
   "outputs": [],
   "source": [
    "sce <- scDblFinder(peak_assay, aggregateFeatures=TRUE, nfeatures=25, processing=\"normFeatures\", artificialDoublets = length(colnames(obj)))\n",
    "obj$doublet_class <- sce@colData$scDblFinder.class\n",
    "obj$doublet_class <- factor(obj$doublet_class, levels = c('singlet', 'doublet'))\n",
    "obj$doublet_score <- sce@colData$scDblFinder.score"
   ]
  },
  {
   "cell_type": "code",
   "execution_count": null,
   "id": "642fc452-ba18-4399-91d8-c9289f4dfae7",
   "metadata": {
    "vscode": {
     "languageId": "r"
    }
   },
   "outputs": [],
   "source": [
    "options(repr.plot.width=8, repr.plot.height=6)\n",
    "\n",
    "g = ggplot(obj[[]], aes_string(x = 'doublet_score', color = 'doublet_class', fill = 'doublet_class')) + geom_histogram()\n",
    "g + scale_color_manual(name = 'Final classification', values=c(\"#0571b0\", \"#ca0020\"))+\n",
    "  scale_fill_manual(name = 'Final classification',values=c(\"#0571b0\", \"#ca0020\")) + theme_classic() + ylab('Number of cells') + xlab('Probability of cell being a\\ndoublet (score)')+ \n",
    "theme(axis.ticks.x=element_blank(), axis.ticks.y=element_blank(), text = element_text(size = 16, family = 'Helvetica'), legend.title=element_text(size=14 ,family = 'Helvetica'), legend.position = 'right')\n",
    "ggsave(glue('data/single_sample_processing/{sample_id}/qc/doubscores.pdf'), width = 8, height = 6)\n"
   ]
  },
  {
   "cell_type": "code",
   "execution_count": null,
   "id": "87d8f13a-80a0-4a1d-bf40-35e713812509",
   "metadata": {
    "vscode": {
     "languageId": "r"
    }
   },
   "outputs": [],
   "source": [
    "stacked_bar <- dplyr::count(obj[[]], obj[[]]$doublet_class, sort = T)\n",
    "stacked_bar$type = 'tmp'\n",
    "ggplot(stacked_bar, aes(fill = stacked_bar[,1], y = stacked_bar[,2], x = stacked_bar[,3])) +\n",
    "geom_bar(position = 'fill', stat = 'identity', width = 0.6) + scale_color_manual(name = 'Final classification', values=c(\"#0571b0\", \"#ca0020\"))+\n",
    "  scale_fill_manual(name = 'Final classification',values=c(\"#0571b0\", \"#ca0020\")) + theme_classic() + ylab('Proportion of cells') + xlab('')+ \n",
    "theme(aspect.ratio = 3/1, axis.ticks.x=element_blank(), axis.text.x=element_blank(), text = element_text(size = 16, family = 'Helvetica'), legend.title=element_text(size=14 ,family = 'Helvetica'), legend.position = 'right')\n",
    "\n",
    "ggsave(glue('data/single_sample_processing/{sample_id}/qc/doubproportions.pdf'), width = 8, height = 6)"
   ]
  },
  {
   "cell_type": "code",
   "execution_count": null,
   "id": "26611c1d-d7b1-4478-b3ac-938826172f41",
   "metadata": {
    "vscode": {
     "languageId": "r"
    }
   },
   "outputs": [],
   "source": [
    "dim(obj)"
   ]
  },
  {
   "cell_type": "code",
   "execution_count": null,
   "id": "70c1217c-56f4-4560-b574-4be76ca00f9c",
   "metadata": {
    "vscode": {
     "languageId": "r"
    }
   },
   "outputs": [],
   "source": [
    "sum(obj$doublet_class == \"doublet\")"
   ]
  },
  {
   "cell_type": "markdown",
   "id": "f8447fed-2b3a-4322-a52f-90eb00782436",
   "metadata": {},
   "source": [
    "## Remove doublets"
   ]
  },
  {
   "cell_type": "code",
   "execution_count": null,
   "id": "5b2b49a2-e64e-49b4-a973-3c3a9896e97e",
   "metadata": {
    "vscode": {
     "languageId": "r"
    }
   },
   "outputs": [],
   "source": [
    "obj <- subset(\n",
    "  x = obj,\n",
    "  subset = doublet_class == 'singlet'\n",
    ")\n",
    "dim(obj)"
   ]
  },
  {
   "cell_type": "code",
   "execution_count": null,
   "id": "0ead3e5c-9562-4baf-9451-ee30f9382ead",
   "metadata": {
    "vscode": {
     "languageId": "r"
    }
   },
   "outputs": [],
   "source": [
    "saveRDS(obj, \"KO1_atac_ALLsinglet_obj.RDS\")"
   ]
  },
  {
   "cell_type": "markdown",
   "id": "ae0b290f-6c59-47da-8ece-e64ed58b4546",
   "metadata": {},
   "source": [
    "# <span style=\"color:green\"> Part 2 - QC: Compute QC metrics and visualizing distributions for each sample one by one"
   ]
  },
  {
   "cell_type": "markdown",
   "id": "8be5dc43-5f8c-496d-90b1-2ab36fca274b",
   "metadata": {},
   "source": [
    "## Count fragments"
   ]
  },
  {
   "cell_type": "code",
   "execution_count": null,
   "id": "dc2d2fc9-ad3e-45d7-8efe-3698ee48f76d",
   "metadata": {
    "vscode": {
     "languageId": "r"
    }
   },
   "outputs": [],
   "source": [
    "fragment_file_path # double-check if the path is correct"
   ]
  },
  {
   "cell_type": "code",
   "execution_count": null,
   "id": "97908580-bada-4f9a-b1eb-12a95292308c",
   "metadata": {
    "vscode": {
     "languageId": "r"
    }
   },
   "outputs": [],
   "source": [
    "total_fragments <- CountFragments(fragment_file_path)"
   ]
  },
  {
   "cell_type": "markdown",
   "id": "2d0a2828-f3e3-4b9a-baad-f15ca53b60d0",
   "metadata": {},
   "source": [
    "## Calculate fraction of reads in peaks for each cell \n",
    "Calculate the proportion of sequencing reads (fragments) from a single cell that fall within regions identified as \"peaks\" in a chromatin accessibility analysis"
   ]
  },
  {
   "cell_type": "code",
   "execution_count": null,
   "id": "7f2a94ae-b8a7-4eb0-a186-696e824fb422",
   "metadata": {
    "vscode": {
     "languageId": "r"
    }
   },
   "outputs": [],
   "source": [
    "# Assign the total fragment calculated from CountFragment() function to the metadata\n",
    "row.names(total_fragments) <- total_fragments$CB\n",
    "obj$fragments <- total_fragments[colnames(obj), \"frequency_count\"]\n",
    "\n",
    "# Use FRiP() function to calculate the fraction of reads in peaks per cell\n",
    "obj <- FRiP(\n",
    "    object = obj,\n",
    "    assay = 'peaks',\n",
    "    total.fragments = 'fragments')"
   ]
  },
  {
   "cell_type": "markdown",
   "id": "9bef46c2-2e37-4e66-a70b-161927f3ddc5",
   "metadata": {},
   "source": [
    "## counting fragments in genome blacklist regions (can be diagnostic of low quality cells)"
   ]
  },
  {
   "cell_type": "code",
   "execution_count": null,
   "id": "55f23f3e-8c5a-4905-8b54-00d428fa1bd8",
   "metadata": {
    "vscode": {
     "languageId": "r"
    }
   },
   "outputs": [],
   "source": [
    "obj$blacklist_fraction <- FractionCountsInRegion(\n",
    "    object = obj,\n",
    "    assay = 'peaks',\n",
    "    regions = blacklist_mm10)"
   ]
  },
  {
   "cell_type": "markdown",
   "id": "4b88c00e-d100-4a78-9906-ebc82b550c6d",
   "metadata": {},
   "source": [
    "## compute nucleosome signal score per cell -- proxy of fragment length periodicity"
   ]
  },
  {
   "cell_type": "code",
   "execution_count": null,
   "id": "d398783b-b6cc-43b7-9f33-ab9e06a2c74b",
   "metadata": {
    "vscode": {
     "languageId": "r"
    }
   },
   "outputs": [],
   "source": [
    "obj <- NucleosomeSignal(object = obj)"
   ]
  },
  {
   "cell_type": "markdown",
   "id": "4e38b3ad-98ba-4687-8264-dd8c1dea12e8",
   "metadata": {},
   "source": [
    "## compute TSS enrichment score per cell"
   ]
  },
  {
   "cell_type": "code",
   "execution_count": null,
   "id": "d65e814a-ce2a-443c-b3ee-9622a3c75fa4",
   "metadata": {
    "vscode": {
     "languageId": "r"
    }
   },
   "outputs": [],
   "source": [
    "obj <- TSSEnrichment(object = obj, fast = FALSE)"
   ]
  },
  {
   "cell_type": "markdown",
   "id": "b0f8830a-8b30-47e9-8344-40a310e8fac2",
   "metadata": {},
   "source": [
    "## Calculate peak region fragments using colSums():\n",
    "* computes the sum of values for each column of the matrix. In the case of single-cell ATAC-seq data, each column represents a cell, and each row represents a peak (a genomic region with accessible chromatin).\n",
    "* therefore computes the overall chromatin accessiblity for each cell"
   ]
  },
  {
   "cell_type": "code",
   "execution_count": null,
   "id": "2a031182-c9f3-4ee8-bf1a-07aed0b99230",
   "metadata": {
    "vscode": {
     "languageId": "r"
    }
   },
   "outputs": [],
   "source": [
    "obj$peak_region_fragments <- colSums(GetAssayData(obj, assay = \"peaks\", layer = \"data\"))"
   ]
  },
  {
   "cell_type": "code",
   "execution_count": null,
   "id": "d1859c4f-15b4-4a38-9f2c-b724e7f8f502",
   "metadata": {
    "vscode": {
     "languageId": "r"
    }
   },
   "outputs": [],
   "source": [
    "options(repr.plot.width=10, repr.plot.height=6)\n",
    "\n",
    "obj$high.tss <- ifelse(obj$TSS.enrichment > 2, 'TSS enrichment > 2', 'TSS enrichment < 2')\n",
    "TSSPlot(obj, group.by = 'high.tss') + NoLegend()  & scale_color_manual(values = c('black', 'black')) & \n",
    "theme(plot.title = element_blank(), text = element_text(size = 18)) \n",
    "\n",
    "ggsave(glue('data/single_sample_processing/{sample_id}/qc/tssenrichment.pdf'), width = 10, height = 6)"
   ]
  },
  {
   "cell_type": "code",
   "execution_count": null,
   "id": "78ba7381-0437-43d0-a124-61348ffabae4",
   "metadata": {
    "vscode": {
     "languageId": "r"
    }
   },
   "outputs": [],
   "source": [
    "options(repr.plot.width=7, repr.plot.height=6)\n",
    "DensityScatter(obj, x = 'nCount_peaks', y = 'TSS.enrichment', log_x = TRUE, quantiles = TRUE)"
   ]
  },
  {
   "cell_type": "code",
   "execution_count": null,
   "id": "c006aac3-0585-4fa6-95b5-d076f03a0827",
   "metadata": {
    "vscode": {
     "languageId": "r"
    }
   },
   "outputs": [],
   "source": [
    "options(repr.plot.width=20, repr.plot.height=6)\n",
    "titles <- c('Fraction of reads\\nin peaks', 'Total # of fragments\\nin peaks', 'Transcription start site\\nenrichment', 'Blacklist fraction', 'Nucleosome signal')\n",
    "colnames <- c('FRiP','nCount_peaks','TSS.enrichment', 'blacklist_fraction', 'nucleosome_signal')\n",
    "\n",
    "plot_lst <- vector('list', length = 0)\n",
    "for (i in 1:length(colnames)) {\n",
    "    g <- ggplot(obj[[]], aes_string(x = factor(0), y = obj[[]][,colnames[i]])) + theme_classic() + geom_violin(color = 'black', fill = 'grey') +\n",
    "    theme(axis.ticks.x=element_blank(), axis.ticks.y=element_blank(),axis.title.x=element_blank(),axis.text.x=element_blank(), axis.text.y=element_text(size = 15), text = \n",
    "    element_text(size = 16, family = 'Helvetica'), axis.title.y=element_blank(), legend.position = \"none\") + geom_boxplot(width = 0.1) +\n",
    "    ggtitle(titles[i]) + theme(plot.title = element_text(hjust = 0.5, family = 'Helvetica'))\n",
    "    plot_lst[[i]] <- g \n",
    "}\n",
    "\n",
    "\n",
    "cowplot::plot_grid(plotlist = plot_lst, nrow= 1, align = 'h')\n",
    "ggsave(glue('data/single_sample_processing/{sample_id}/qc/quality_distributions_violin.pdf'), width = 20, height = 6)"
   ]
  },
  {
   "cell_type": "markdown",
   "id": "b007e198-6eb8-4a75-967e-b1efc22bb9e4",
   "metadata": {},
   "source": [
    "# <span style='color:green'> Remove cells that are outliers based on these QC metrics, determine thresholds dynamically (each sample have unique threshold based on the distribution) </span>"
   ]
  },
  {
   "cell_type": "code",
   "execution_count": null,
   "id": "4eec2ab7-f218-445d-99a7-972455749c1f",
   "metadata": {
    "vscode": {
     "languageId": "r"
    }
   },
   "outputs": [],
   "source": [
    "## determine cut offs based on 3 MAD from median \n",
    "options(repr.plot.width=20, repr.plot.height=4)\n",
    "titles <- c('Fraction of reads\\nin peaks', 'Total # of fragments\\nin peaks', 'Transcription start site\\nenrichment', 'Blacklist fraction', 'Nucleosome signal')\n",
    "colnames <- c('FRiP','nCount_peaks','TSS.enrichment', 'blacklist_fraction', 'nucleosome_signal')\n",
    "\n",
    "plot_lst <- vector('list', length = 0)\n",
    "for (i in 1:length(colnames)) {\n",
    "    g <- ggplot(obj[[]], aes_string(x = colnames[i])) + geom_density(fill = 'grey', color = '#616161')\n",
    "    g <- g + geom_vline(aes_string(xintercept = median(obj[[colnames[i]]][,1]) + (3 * mad(obj[[colnames[i]]][,1]))))\n",
    "    g <- g + geom_vline(aes_string(xintercept = median(obj[[colnames[i]]][,1]) - (3 * mad(obj[[colnames[i]]][,1]))))\n",
    "    g <- g + ggtitle(paste('mincutoff = ', round(median(obj[[colnames[i]]][,1]) - (3 * mad(obj[[colnames[i]]][,1])), 2), '\\nmaxcutoff = ', round(median(obj[[colnames[i]]][,1]) + (3 * mad(obj[[colnames[i]]][,1])), 2)))\n",
    "    g <- g + theme_classic() + theme(axis.ticks.x=element_blank(), axis.ticks.y=element_blank(), axis.text.y=element_text(size = 15), text = \n",
    "    element_text(size = 14, family = 'Helvetica'), legend.position = \"none\", plot.title = element_text(family = 'Helvetica', size = 15)) + xlab(titles[i])\n",
    "    plot_lst[[i]] <- g\n",
    "}\n",
    "\n",
    "\n",
    "cowplot::plot_grid(plotlist = plot_lst, nrow= 1, align = 'h')\n",
    "ggsave(glue('data/single_sample_processing/{sample_id}/qc/quality_distributions_cutoff.pdf'), width = 20, height = 4)"
   ]
  },
  {
   "cell_type": "code",
   "execution_count": null,
   "id": "03a96108-edf0-47f6-ace9-232eb62d537b",
   "metadata": {
    "tags": [],
    "vscode": {
     "languageId": "r"
    }
   },
   "outputs": [],
   "source": [
    "colnames <- c('FRiP', 'nCount_peaks', 'TSS.enrichment', 'blacklist_fraction', 'nucleosome_signal')\n",
    "cutoffs <- list()\n",
    "\n",
    "for (i in colnames) {\n",
    "    # Calculate max and min cutoffs\n",
    "    maxcutoff <- round(median(obj[[i]][, 1]) + (3 * mad(obj[[i]][, 1])), 2)\n",
    "    mincutoff <- round(median(obj[[i]][, 1]) - (3 * mad(obj[[i]][, 1])), 2)\n",
    "    \n",
    "    # Store the cutoffs in the list\n",
    "    cutoffs[[i]] <- list(max = maxcutoff, min = mincutoff)\n",
    "}\n",
    "\n",
    "# View the cutoffs\n",
    "print(cutoffs)\n"
   ]
  },
  {
   "cell_type": "code",
   "execution_count": null,
   "id": "06625fa3-b308-45b7-8abc-70dcf4e08c69",
   "metadata": {
    "vscode": {
     "languageId": "r"
    }
   },
   "outputs": [],
   "source": [
    "obj <- subset(\n",
    "    x = obj,\n",
    "    subset = nCount_peaks < 30691.21 &\n",
    "    nCount_peaks > 3000 & # > mincutoff\n",
    "    FRiP > 0.47 & # > mincutoff\n",
    "    blacklist_fraction < 0.05 & # < maxcutoff\n",
    "    nucleosome_signal < 1.11 &  # < maxcutoff\n",
    "    TSS.enrichment > 2.42   # > mincutoff\n",
    ")\n",
    "dim(obj)"
   ]
  },
  {
   "cell_type": "code",
   "execution_count": null,
   "id": "69713759-7e1f-4516-9fec-b9a9515bff57",
   "metadata": {
    "vscode": {
     "languageId": "r"
    }
   },
   "outputs": [],
   "source": [
    "saveRDS(obj, \"KO1_atac_QCfiltered.RDS\")\n"
   ]
  }
 ],
 "metadata": {
  "kernelspec": {
   "display_name": "R",
   "language": "R",
   "name": "ir"
  },
  "language_info": {
   "codemirror_mode": "r",
   "file_extension": ".r",
   "mimetype": "text/x-r-source",
   "name": "R",
   "pygments_lexer": "r",
   "version": "4.4.0"
  }
 },
 "nbformat": 4,
 "nbformat_minor": 5
}
