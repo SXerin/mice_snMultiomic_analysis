{
 "cells": [
  {
   "cell_type": "code",
   "execution_count": null,
   "id": "299f9f87-f271-4bc9-954e-a5f62b264c04",
   "metadata": {
    "tags": [],
    "vscode": {
     "languageId": "r"
    }
   },
   "outputs": [],
   "source": [
    "library(Seurat)\n",
    "library(Signac)\n",
    "library(GenomeInfoDb)\n",
    "library(EnsDb.Mmusculus.v79)\n",
    "library(ggplot2)\n",
    "library(ggpubr)\n",
    "library(glue)\n",
    "library(scDblFinder)\n",
    "library(RColorBrewer)\n",
    "library(dplyr)\n",
    "library(ggridges)\n",
    "library(CopyscAT)\n",
    "library(BSgenome.Mmusculus.UCSC.mm10)\n",
    "library(harmony)\n",
    "set.seed(123)"
   ]
  },
  {
   "cell_type": "markdown",
   "id": "fc39cd82-2003-4b60-ae47-7b79c7bc8656",
   "metadata": {
    "jp-MarkdownHeadingCollapsed": true,
    "tags": []
   },
   "source": [
    "# Goals: \n",
    "## 1. Identify differentially accassibile regions (DARs) between KO and WT groups in atac_subset_gex obj using Logistic Regression (LR) method\n",
    "## 2. Find the enriched motifs using DARs"
   ]
  },
  {
   "cell_type": "markdown",
   "id": "b89e8ed8",
   "metadata": {},
   "source": [
    "# <span style=\"color:green\"> Part 1a: Find accessibile regions in KO compared to the WT group (only.pos = T) with LR. Use \"nCount_peaks\" and \"nFeature_peaks\" as latent.vars"
   ]
  },
  {
   "cell_type": "code",
   "execution_count": null,
   "id": "ba5affde-1190-404f-86ba-b4e56e521dd5",
   "metadata": {
    "vscode": {
     "languageId": "r"
    }
   },
   "outputs": [],
   "source": [
    "dc1_atac_obj <- readRDS(\"atac_subGex_clustered_obj.RDS\")\n",
    "dim(dc1_atac_obj)"
   ]
  },
  {
   "cell_type": "code",
   "execution_count": null,
   "id": "73a046c1-0839-4b63-8193-11a16ee41cd5",
   "metadata": {
    "vscode": {
     "languageId": "r"
    }
   },
   "outputs": [],
   "source": [
    "table(dc1_atac_obj$origin)"
   ]
  },
  {
   "cell_type": "markdown",
   "id": "532277a3-1c6c-4fff-9593-cd271d0fe82e",
   "metadata": {
    "jp-MarkdownHeadingCollapsed": true,
    "tags": []
   },
   "source": [
    "### check nFeature_peaks and nCount_peaks"
   ]
  },
  {
   "cell_type": "code",
   "execution_count": null,
   "id": "257da13a-f441-44d5-8cbc-b4e1a0ba6113",
   "metadata": {
    "vscode": {
     "languageId": "r"
    }
   },
   "outputs": [],
   "source": [
    "options(repr.plot.width=12, repr.plot.height=6) #\"#9ed4a0\"\n",
    "\n",
    "one = VlnPlot(dc1_atac_obj, group.by = \"origin\", features = \"nCount_peaks\")\n",
    "two = VlnPlot(dc1_atac_obj, group.by = \"origin\", features = \"nFeature_peaks\")\n",
    "\n",
    "ggarrange(one, two)"
   ]
  },
  {
   "cell_type": "code",
   "execution_count": null,
   "id": "3a7b3510-5132-486d-a17d-e6215730c612",
   "metadata": {
    "vscode": {
     "languageId": "r"
    }
   },
   "outputs": [],
   "source": [
    "table(dc1_atac_obj$experimental_groups)"
   ]
  },
  {
   "cell_type": "markdown",
   "id": "774bfd1a",
   "metadata": {
    "vscode": {
     "languageId": "r"
    }
   },
   "source": [
    "## Run LR test"
   ]
  },
  {
   "cell_type": "code",
   "execution_count": null,
   "id": "14f01675-e83e-4b7e-ba94-e6f353cfd5a4",
   "metadata": {
    "vscode": {
     "languageId": "r"
    }
   },
   "outputs": [],
   "source": [
    "DARs <- FindMarkers(dc1_atac_obj, \n",
    "                         assay = \"peaks\", \n",
    "                         test.use = \"LR\", \n",
    "                         group.by = \"experimental_groups\",\n",
    "                         ident.1 = \"KO\",\n",
    "                         ident.2 = \"WT\",\n",
    "                         latent.vars = c(\"nCount_peaks\", \"nFeature_peaks\"),\n",
    "                         only.pos = TRUE,\n",
    "                         min.pct = 0.05)               "
   ]
  },
  {
   "cell_type": "code",
   "execution_count": null,
   "id": "a055362e-9438-4991-ad96-33a701abeb31",
   "metadata": {
    "vscode": {
     "languageId": "r"
    }
   },
   "outputs": [],
   "source": [
    "dim(DARs)\n"
   ]
  },
  {
   "cell_type": "code",
   "execution_count": null,
   "id": "d3041da1-06dc-4f6c-8012-a9a4ac680ab2",
   "metadata": {
    "vscode": {
     "languageId": "r"
    }
   },
   "outputs": [],
   "source": [
    "DARs_sig <- DARs[DARs$p_val_adj < 0.05,]\n",
    "dim(DARs_sig)"
   ]
  },
  {
   "cell_type": "code",
   "execution_count": null,
   "id": "623420fe-aed1-4913-a5a4-f42e701d2a59",
   "metadata": {
    "vscode": {
     "languageId": "r"
    }
   },
   "outputs": [],
   "source": [
    "write.csv(DARs, \"LR_DARs_df_atacSUBgex.csv\") "
   ]
  },
  {
   "cell_type": "code",
   "execution_count": null,
   "id": "e68b58a9-f6c0-4bf8-9837-7da794da0ece",
   "metadata": {
    "vscode": {
     "languageId": "r"
    }
   },
   "outputs": [],
   "source": [
    "write.csv(DARs_sig, \"LR_sigDARs_df_atacSUBgex.csv\") #more accessible in KO compared to WT"
   ]
  },
  {
   "cell_type": "markdown",
   "id": "a468c4a7-fcd7-4d34-beae-9a0d288973a3",
   "metadata": {
    "tags": []
   },
   "source": [
    "## annotate DARs - find the gene closest to each region"
   ]
  },
  {
   "cell_type": "code",
   "execution_count": null,
   "id": "378f676c-3a52-43dd-99de-169e05542ad0",
   "metadata": {
    "tags": [],
    "vscode": {
     "languageId": "r"
    }
   },
   "outputs": [],
   "source": [
    "regions <- StringToGRanges(rownames(DARs_sig))\n",
    "regions"
   ]
  },
  {
   "cell_type": "code",
   "execution_count": null,
   "id": "ca4a3ab0-d32f-43b0-8695-9794b5482bcd",
   "metadata": {
    "vscode": {
     "languageId": "r"
    }
   },
   "outputs": [],
   "source": [
    "closest_DAR <- ClosestFeature(dc1_atac_obj, regions)"
   ]
  },
  {
   "cell_type": "code",
   "execution_count": null,
   "id": "5e5a2c79-db2b-48d4-8eef-04c52ef7ad68",
   "metadata": {
    "collapsed": true,
    "jupyter": {
     "outputs_hidden": true
    },
    "tags": [],
    "vscode": {
     "languageId": "r"
    }
   },
   "outputs": [],
   "source": [
    "closest_DAR\n"
   ]
  },
  {
   "cell_type": "markdown",
   "id": "894c36a2",
   "metadata": {},
   "source": [
    "### Merge DRAs_df with anotated_DARs_df to have both pval and annotation in one df"
   ]
  },
  {
   "cell_type": "code",
   "execution_count": null,
   "id": "9c1df182-004b-47b4-8095-db22419b999c",
   "metadata": {
    "vscode": {
     "languageId": "r"
    }
   },
   "outputs": [],
   "source": [
    "DARs_sig$query_region <- rownames(DARs_sig)\n",
    "\n",
    "annotated_sigDARs_df <- merge(DARs_sig, closest_DAR, by = \"query_region\")\n",
    "head(annotated_sigDARs_df, 5)"
   ]
  },
  {
   "cell_type": "code",
   "execution_count": null,
   "id": "28d410d1-d887-48d8-86d8-92c01182cba8",
   "metadata": {
    "vscode": {
     "languageId": "r"
    }
   },
   "outputs": [],
   "source": [
    "write.csv(annotated_sigDARs_df, \"LR_annotated_sigDARs_df_atacSUBgex.csv\")"
   ]
  },
  {
   "cell_type": "markdown",
   "id": "a36b2f0f-4215-429a-b584-c05cd12503a5",
   "metadata": {
    "tags": []
   },
   "source": [
    "# <span style=\"color:green\"> Part 1b: Find DARs between KO and WT (both ways) with LR. Use \"nCount_peaks\" and \"nFeature_peaks\" as latent.vars"
   ]
  },
  {
   "cell_type": "code",
   "execution_count": null,
   "id": "d8ca6d31-1a56-493c-8e82-01d37abaef3a",
   "metadata": {
    "vscode": {
     "languageId": "r"
    }
   },
   "outputs": [],
   "source": [
    "DARs_full = FindMarkers(dc1_atac_obj, \n",
    "                         assay = \"peaks\", \n",
    "                         test.use = \"LR\", \n",
    "                         group.by = \"experimental_groups\",\n",
    "                         ident.1 = \"KO\",\n",
    "                         ident.2 = \"WT\",\n",
    "                         latent.vars = c(\"nCount_peaks\", \"nFeature_peaks\"),\n",
    "                         min.pct = 0.05)"
   ]
  },
  {
   "cell_type": "code",
   "execution_count": null,
   "id": "7f3d973c-026a-4ca8-bfe5-f8f346293980",
   "metadata": {
    "vscode": {
     "languageId": "r"
    }
   },
   "outputs": [],
   "source": [
    "dim(DARs_full)"
   ]
  },
  {
   "cell_type": "code",
   "execution_count": null,
   "id": "39107a80-a4ca-4492-af68-486d2c009878",
   "metadata": {
    "vscode": {
     "languageId": "r"
    }
   },
   "outputs": [],
   "source": [
    "sig_DARs_full = DARs_full[DARs_full$p_val_adj < 0.05,]\n",
    "dim(sig_DARs_full)"
   ]
  },
  {
   "cell_type": "code",
   "execution_count": null,
   "id": "34484067-5bcb-4d8f-996d-eeb11d64ebbf",
   "metadata": {
    "vscode": {
     "languageId": "r"
    }
   },
   "outputs": [],
   "source": [
    "sig_DARs_up = sig_DARs_full[sig_DARs_full$avg_log2FC > 0,]\n",
    "dim(sig_DARs_up)"
   ]
  },
  {
   "cell_type": "code",
   "execution_count": null,
   "id": "d9e11309-0580-4a97-bdfe-815068c811a9",
   "metadata": {
    "vscode": {
     "languageId": "r"
    }
   },
   "outputs": [],
   "source": [
    "sig_DARs_down = sig_DARs_full[sig_DARs_full$avg_log2FC < 0,]\n",
    "dim(sig_DARs_down)"
   ]
  },
  {
   "cell_type": "markdown",
   "id": "790d9a5e-31ed-4a74-a153-c5b0442b1c68",
   "metadata": {},
   "source": [
    "## annotate DARs in WT compared to KO - find the gene closest to each region"
   ]
  },
  {
   "cell_type": "code",
   "execution_count": null,
   "id": "27b7d948-1d69-4371-a20b-1ebbcf33433c",
   "metadata": {
    "vscode": {
     "languageId": "r"
    }
   },
   "outputs": [],
   "source": [
    "regions = StringToGRanges(rownames(sig_DARs_down))\n",
    "closest_DAR <- ClosestFeature(dc1_atac_obj, regions)"
   ]
  },
  {
   "cell_type": "code",
   "execution_count": null,
   "id": "17f1273b-c02d-4bb0-938b-ef521d430be5",
   "metadata": {
    "vscode": {
     "languageId": "r"
    }
   },
   "outputs": [],
   "source": [
    "dim(closest_DAR)"
   ]
  },
  {
   "cell_type": "code",
   "execution_count": null,
   "id": "8f56e2cf-6de9-4d8b-9f24-480e48c01bd2",
   "metadata": {
    "vscode": {
     "languageId": "r"
    }
   },
   "outputs": [],
   "source": [
    "sig_DARs_down$query_region = rownames(sig_DARs_down)"
   ]
  },
  {
   "cell_type": "code",
   "execution_count": null,
   "id": "a2cb15ba-b660-4956-bc78-f6f217e9579e",
   "metadata": {
    "vscode": {
     "languageId": "r"
    }
   },
   "outputs": [],
   "source": [
    "annotated_sig_DARs_down = merge(sig_DARs_down, closest_DAR, by = \"query_region\")"
   ]
  },
  {
   "cell_type": "code",
   "execution_count": null,
   "id": "9be6b6eb-3d55-45ff-ab3e-f121d4924bf9",
   "metadata": {
    "vscode": {
     "languageId": "r"
    }
   },
   "outputs": [],
   "source": [
    "head(annotated_sig_DARs_down)"
   ]
  },
  {
   "cell_type": "code",
   "execution_count": null,
   "id": "305b2c4d-a079-4f33-b456-a6b4d7d8346e",
   "metadata": {
    "vscode": {
     "languageId": "r"
    }
   },
   "outputs": [],
   "source": [
    "write.csv(annotated_sig_DARs_down, \"LR_annotated_sigDARs_down_df_atacSUBgex.csv\") # DARs in WT compared to KO"
   ]
  },
  {
   "cell_type": "markdown",
   "id": "57ef5915",
   "metadata": {},
   "source": [
    "# <span style=\"color:green\"> Part 2: Moitf enrichment analysis - for regions more accessible in KO compared to WT"
   ]
  },
  {
   "cell_type": "code",
   "execution_count": null,
   "id": "26d83f8a",
   "metadata": {
    "vscode": {
     "languageId": "r"
    }
   },
   "outputs": [],
   "source": [
    "dc1_atac_obj <- readRDS(\"atac_subGex_clustered_obj.RDS\")\n",
    "DARs <- read.csv(\"LR_sigDARs_df_atacSUBgex.csv\") # accessible regions in KO compared to WT\n",
    "\n",
    "dim(dc1_atac_obj)\n",
    "dim(DARs)"
   ]
  },
  {
   "cell_type": "markdown",
   "id": "a7d2e85e",
   "metadata": {
    "vscode": {
     "languageId": "r"
    }
   },
   "source": [
    "## Adding motif infomration to the seurat object using a list of motif position frequency matrices from the JASPAR database"
   ]
  },
  {
   "cell_type": "code",
   "execution_count": null,
   "id": "618bc481",
   "metadata": {
    "vscode": {
     "languageId": "r"
    }
   },
   "outputs": [],
   "source": [
    "# pfm : position frequency matrix\n",
    "pfm <- getMatrixSet(\n",
    "  x = JASPAR2020,\n",
    "  opts = list(collection = \"CORE\", tax_group = 'vertebrates', all_versions = FALSE)\n",
    ")\n"
   ]
  },
  {
   "cell_type": "code",
   "execution_count": null,
   "id": "08d4720b",
   "metadata": {
    "vscode": {
     "languageId": "r"
    }
   },
   "outputs": [],
   "source": [
    "pfm"
   ]
  },
  {
   "cell_type": "markdown",
   "id": "690a2c51",
   "metadata": {},
   "source": [
    "#### add motif information"
   ]
  },
  {
   "cell_type": "code",
   "execution_count": null,
   "id": "8ee90285",
   "metadata": {
    "vscode": {
     "languageId": "r"
    }
   },
   "outputs": [],
   "source": [
    "dc1_atac_obj <- AddMotifs(\n",
    "  object = dc1_atac_obj,\n",
    "  genome = BSgenome.Mmusculus.UCSC.mm10,\n",
    "  pfm = pfm\n",
    ")\n"
   ]
  },
  {
   "cell_type": "code",
   "execution_count": null,
   "id": "fef6f24e",
   "metadata": {
    "vscode": {
     "languageId": "r"
    }
   },
   "outputs": [],
   "source": [
    "head(seqlevels(BSgenome.Mmusculus.UCSC.mm10))"
   ]
  },
  {
   "cell_type": "code",
   "execution_count": null,
   "id": "470e3213",
   "metadata": {
    "vscode": {
     "languageId": "r"
    }
   },
   "outputs": [],
   "source": [
    "head(seqnames(dc1_atac_obj))"
   ]
  },
  {
   "cell_type": "code",
   "execution_count": null,
   "id": "b7bd5eec",
   "metadata": {
    "vscode": {
     "languageId": "r"
    }
   },
   "outputs": [],
   "source": [
    "saveRDS(dc1_atac_obj, \"atac_subGex_clustered_obj.RDS\")"
   ]
  },
  {
   "cell_type": "markdown",
   "id": "29da1079",
   "metadata": {},
   "source": [
    "## Find motifs enriched in DAR "
   ]
  },
  {
   "cell_type": "code",
   "execution_count": null,
   "id": "7c9b8637",
   "metadata": {
    "vscode": {
     "languageId": "r"
    }
   },
   "outputs": [],
   "source": [
    "head(DARs, 3)"
   ]
  },
  {
   "cell_type": "code",
   "execution_count": null,
   "id": "6926bef9",
   "metadata": {
    "vscode": {
     "languageId": "r"
    }
   },
   "outputs": [],
   "source": [
    "DARs_locations <- DARs$X"
   ]
  },
  {
   "cell_type": "markdown",
   "id": "3f2af7c9",
   "metadata": {},
   "source": [
    "### match the background peaks:  further restrict the background peaks to those that are accessible in the groups of cells compared when finding differentially accessible peaks."
   ]
  },
  {
   "cell_type": "code",
   "execution_count": null,
   "id": "671464ab",
   "metadata": {
    "vscode": {
     "languageId": "r"
    }
   },
   "outputs": [],
   "source": [
    "open.peaks <- AccessiblePeaks(dc1_atac_obj)\n",
    "\n",
    "meta.feature <- GetAssayData(dc1_atac_obj, assay = \"peaks\", layer = \"meta.features\")\n",
    "peaks.matched <- MatchRegionStats(\n",
    "  meta.feature = meta.feature[open.peaks, ],\n",
    "  query.feature = meta.feature[DARs_locations, ],\n",
    "  n = 50000\n",
    ")"
   ]
  },
  {
   "cell_type": "code",
   "execution_count": null,
   "id": "764967bc",
   "metadata": {
    "vscode": {
     "languageId": "r"
    }
   },
   "outputs": [],
   "source": [
    "enriched.motifs <- FindMotifs(\n",
    "  object = dc1_atac_obj,\n",
    "  features = DARs_locations,\n",
    "  background=peaks.matched\n",
    ")"
   ]
  },
  {
   "cell_type": "code",
   "execution_count": null,
   "id": "403c0bea",
   "metadata": {
    "vscode": {
     "languageId": "r"
    }
   },
   "outputs": [],
   "source": [
    "sig_enriched.motifs <- enriched.motifs[enriched.motifs$p.adjust < 0.05,]\n",
    "dim(sig_enriched.motifs)"
   ]
  },
  {
   "cell_type": "code",
   "execution_count": null,
   "id": "461914af",
   "metadata": {
    "vscode": {
     "languageId": "r"
    }
   },
   "outputs": [],
   "source": [
    "options(repr.plot.width=20, repr.plot.height=20)\n",
    "\n",
    "MotifPlot(\n",
    "  object = dc1_atac_obj,\n",
    "  motifs = rownames(sig_enriched.motifs)[1:12]\n",
    ")"
   ]
  },
  {
   "cell_type": "code",
   "execution_count": null,
   "id": "3fef5ff1",
   "metadata": {
    "vscode": {
     "languageId": "r"
    }
   },
   "outputs": [],
   "source": [
    "write.csv(sig_enriched.motifs2, \"sig_enriched_motifs_inKO_atacSUBgex_df.csv\")"
   ]
  }
 ],
 "metadata": {
  "kernelspec": {
   "display_name": "R",
   "language": "R",
   "name": "ir"
  },
  "language_info": {
   "codemirror_mode": "r",
   "file_extension": ".r",
   "mimetype": "text/x-r-source",
   "name": "R",
   "pygments_lexer": "r",
   "version": "4.4.0"
  }
 },
 "nbformat": 4,
 "nbformat_minor": 5
}
