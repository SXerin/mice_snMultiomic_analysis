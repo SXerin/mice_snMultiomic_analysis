{
 "cells": [
  {
   "cell_type": "code",
   "execution_count": null,
   "id": "617370c1-05a0-4d78-89bc-a1c8e869be93",
   "metadata": {
    "collapsed": true,
    "jupyter": {
     "outputs_hidden": true
    },
    "tags": [],
    "vscode": {
     "languageId": "r"
    }
   },
   "outputs": [],
   "source": [
    "library(Seurat)\n",
    "library(Signac)\n",
    "library(GenomeInfoDb)\n",
    "library(EnsDb.Mmusculus.v79)\n",
    "library(ggplot2)\n",
    "library(ggpubr)\n",
    "library(glue)\n",
    "library(scDblFinder)\n",
    "library(RColorBrewer)\n",
    "library(dplyr)\n",
    "library(ggridges)\n",
    "library(CopyscAT)\n",
    "library(BSgenome.Mmusculus.UCSC.mm10)\n",
    "library(harmony)\n",
    "set.seed(123)\n"
   ]
  },
  {
   "cell_type": "markdown",
   "id": "c87f35ff",
   "metadata": {
    "vscode": {
     "languageId": "r"
    }
   },
   "source": [
    "# The goals of this workflow are:\n",
    "## 1. to subset the ATAC data to only include the cells that are also present in the RNA data, so that the DNA accessibility data can be used to inform the RNA data (cDC1 only), and identify the cell types in the ATAC data using the RNA data as a reference (transfer labels)\n",
    "## 2. Normalize, find PCAs, and find clusters in the atac_subset_gex object"
   ]
  },
  {
   "cell_type": "markdown",
   "id": "a4630bc8-96bb-4f85-a720-2032215f5246",
   "metadata": {
    "tags": []
   },
   "source": [
    "# <span style=\"color:green\"> Part 1-a: Subset ATAC object by common cells from GEX <span>"
   ]
  },
  {
   "cell_type": "markdown",
   "id": "bd7cdc86-38b4-4544-8f4f-e44e7f9f1366",
   "metadata": {},
   "source": [
    "## merge atac samples"
   ]
  },
  {
   "cell_type": "code",
   "execution_count": null,
   "id": "e0d3ddad-b68d-4b31-b984-4b52150a2b95",
   "metadata": {
    "vscode": {
     "languageId": "r"
    }
   },
   "outputs": [],
   "source": [
    "wt1 <- readRDS(\"WT1_atac_QCfiltered.RDS\")\n",
    "wt2 <- readRDS(\"WT2_atac_QCfiltered.RDS\")\n",
    "ko1 <- readRDS(\"KO1_atac_QCfiltered.RDS\")\n",
    "ko2 <- readRDS(\"KO2_atac_QCfiltered.RDS\")"
   ]
  },
  {
   "cell_type": "code",
   "execution_count": null,
   "id": "e0c180d5-774c-4b4c-82b7-f89cf48b383d",
   "metadata": {
    "tags": [],
    "vscode": {
     "languageId": "r"
    }
   },
   "outputs": [],
   "source": [
    "dim(wt1)\n",
    "dim(wt2)\n",
    "dim(ko1)\n",
    "dim(ko2)"
   ]
  },
  {
   "cell_type": "code",
   "execution_count": null,
   "id": "479603c6-9cfc-4358-bb92-18cf9f0d88fb",
   "metadata": {
    "vscode": {
     "languageId": "r"
    }
   },
   "outputs": [],
   "source": [
    "wt1$origin <- \"WT1\"\n",
    "wt2$origin <- \"WT2\"\n",
    "ko1$origin <- \"KO1\"\n",
    "ko2$origin <- \"KO2\""
   ]
  },
  {
   "cell_type": "code",
   "execution_count": null,
   "id": "c61b1fba-19cd-4706-8da4-dba5cf585395",
   "metadata": {
    "vscode": {
     "languageId": "r"
    }
   },
   "outputs": [],
   "source": [
    "wt1$experimental_groups <- \"WT\"\n",
    "wt2$experimental_groups <- \"WT\"\n",
    "ko1$experimental_groups <- \"KO\"\n",
    "ko2$experimental_groups <- \"KO\""
   ]
  },
  {
   "cell_type": "code",
   "execution_count": null,
   "id": "5a85f5fd-e22f-4b55-be04-dbbd2cb51942",
   "metadata": {
    "tags": [],
    "vscode": {
     "languageId": "r"
    }
   },
   "outputs": [],
   "source": [
    "obj <- merge(x = wt1, \n",
    "            y = c(wt2, ko1, ko2), \n",
    "            add.cell.ids = c('wt1', 'wt2', 'ko1', 'ko2'))"
   ]
  },
  {
   "cell_type": "code",
   "execution_count": null,
   "id": "8af2f124-8424-4168-85da-3c108be0fa8e",
   "metadata": {
    "vscode": {
     "languageId": "r"
    }
   },
   "outputs": [],
   "source": [
    "dim(obj)"
   ]
  },
  {
   "cell_type": "code",
   "execution_count": null,
   "id": "b1b6949f-d2d0-443a-9441-a52bb93078ab",
   "metadata": {
    "vscode": {
     "languageId": "r"
    }
   },
   "outputs": [],
   "source": [
    "table(obj$origin)"
   ]
  },
  {
   "cell_type": "code",
   "execution_count": null,
   "id": "0832f800-1475-4269-9331-e243f0b60f7f",
   "metadata": {
    "vscode": {
     "languageId": "r"
    }
   },
   "outputs": [],
   "source": [
    "head(obj, 3)"
   ]
  },
  {
   "cell_type": "markdown",
   "id": "990c0f39-6967-47d6-8bef-2723e93d3f05",
   "metadata": {},
   "source": [
    "## read in cDC1-only GEX object"
   ]
  },
  {
   "cell_type": "code",
   "execution_count": null,
   "id": "310dbe93-c3ba-4617-b45a-517bcf400d8b",
   "metadata": {
    "vscode": {
     "languageId": "r"
    }
   },
   "outputs": [],
   "source": [
    "seur <- readRDS(\"gex/GEX_cDC1_clustered.RDS\")"
   ]
  },
  {
   "cell_type": "code",
   "execution_count": null,
   "id": "d9c6a774-41c5-40fe-9af6-b690eb9314af",
   "metadata": {
    "vscode": {
     "languageId": "r"
    }
   },
   "outputs": [],
   "source": [
    "dim(seur)"
   ]
  },
  {
   "cell_type": "markdown",
   "id": "becc4088-fd4c-44db-a62f-409abc73d899",
   "metadata": {
    "tags": []
   },
   "source": [
    "## Subset ATAC object based on shared cells in cDC1-only GEX object"
   ]
  },
  {
   "cell_type": "code",
   "execution_count": null,
   "id": "d755a2e1-4fa2-4d3c-8607-06c7422bc349",
   "metadata": {
    "tags": [],
    "vscode": {
     "languageId": "r"
    }
   },
   "outputs": [],
   "source": [
    "head(seur, 3)"
   ]
  },
  {
   "cell_type": "markdown",
   "id": "b096f0ff",
   "metadata": {
    "vscode": {
     "languageId": "r"
    }
   },
   "source": [
    "### the GEX object has different cell_id (barcode) annotation, where each cell_id is ended with \"KO1_matrix\" or \"KO2_matrix\" etc.\n",
    "### so create a new column in the GEX object to match the cell_id in the ATAC object"
   ]
  },
  {
   "cell_type": "code",
   "execution_count": null,
   "id": "afb9c773-97e2-4564-9825-cb1ed212fc8b",
   "metadata": {
    "vscode": {
     "languageId": "r"
    }
   },
   "outputs": [],
   "source": [
    "atac_cellID <- colnames(seur)\n",
    "\n",
    "head(atac_cellID)"
   ]
  },
  {
   "cell_type": "code",
   "execution_count": null,
   "id": "9fbb9bf9-e42b-4841-a952-f760523daece",
   "metadata": {
    "tags": [],
    "vscode": {
     "languageId": "r"
    }
   },
   "outputs": [],
   "source": [
    "\n",
    "atac_cellID <- sapply(atac_cellID, function(name) {\n",
    "  if (grepl(\"\\\\.KO1_matrix$\", name)) {       \n",
    "      paste0(\"ko1_\", sub(\"\\\\.KO1_matrix$\", \"\", name))    \n",
    "      } else if (grepl(\"\\\\.KO2_matrix$\", name)) {\n",
    "      paste0(\"ko2_\", sub(\"\\\\.KO2_matrix$\", \"\", name))\n",
    "      } else if (grepl(\"\\\\.WT1_matrix$\", name)) {\n",
    "      paste0(\"wt1_\", sub(\"\\\\.WT1_matrix$\", \"\", name))\n",
    "      } else if (grepl(\"\\\\.WT2_matrix$\", name)) {\n",
    "      paste0(\"wt2_\", sub(\"\\\\.WT2_matrix$\", \"\", name))        \n",
    "      } else {\n",
    "      name  # Keep original name if no suffix matches\n",
    "  }\n",
    "})\n",
    "\n",
    "atac_cellID <- unname(atac_cellID)\n",
    "head(atac_cellID)"
   ]
  },
  {
   "cell_type": "code",
   "execution_count": null,
   "id": "dfe9e7ee-4738-4f48-8b01-85110088072b",
   "metadata": {
    "vscode": {
     "languageId": "r"
    }
   },
   "outputs": [],
   "source": [
    "seur$atac_cellID <- atac_cellID"
   ]
  },
  {
   "cell_type": "code",
   "execution_count": null,
   "id": "40641dcf-3c71-497c-9aab-64510b553e7f",
   "metadata": {
    "vscode": {
     "languageId": "r"
    }
   },
   "outputs": [],
   "source": [
    "saveRDS(seur, \"gex/GEX_cDC1_clustered.RDS\")"
   ]
  },
  {
   "cell_type": "markdown",
   "id": "8e11b47a-7960-4b76-aa57-f33157e986fe",
   "metadata": {},
   "source": [
    "### Identify shared cells"
   ]
  },
  {
   "cell_type": "code",
   "execution_count": null,
   "id": "76128274-576c-4649-9314-0558947a5fd9",
   "metadata": {
    "vscode": {
     "languageId": "r"
    }
   },
   "outputs": [],
   "source": [
    "shared_cells <- intersect(seur$atac_cellID, colnames(obj))\n",
    "length(shared_cells)"
   ]
  },
  {
   "cell_type": "code",
   "execution_count": null,
   "id": "341da645-9c5a-4211-a962-4fd8e7f0ad4b",
   "metadata": {
    "vscode": {
     "languageId": "r"
    }
   },
   "outputs": [],
   "source": [
    "# Subset atac based on shared cells\n",
    "atac_subGex_obj <- subset(obj, cells = shared_cells)\n",
    "dim(atac_subGex_obj)\n"
   ]
  },
  {
   "cell_type": "code",
   "execution_count": null,
   "id": "1bbbf96f-33aa-48b2-ac6a-647e70aae056",
   "metadata": {
    "vscode": {
     "languageId": "r"
    }
   },
   "outputs": [],
   "source": [
    "atac_subGex_obj"
   ]
  },
  {
   "cell_type": "code",
   "execution_count": null,
   "id": "c971053e-a9bf-4008-ae09-dece261d5954",
   "metadata": {
    "vscode": {
     "languageId": "r"
    }
   },
   "outputs": [],
   "source": [
    "DefaultAssay(atac_subGex_obj)"
   ]
  },
  {
   "cell_type": "markdown",
   "id": "02a63d59-e352-4036-a995-7428cf056f9c",
   "metadata": {},
   "source": [
    "# <span style=\"color:green\"> Part 1-b: Annotate the cells in the atac_subGex object by transfering the celltype labels from GEX object"
   ]
  },
  {
   "cell_type": "code",
   "execution_count": null,
   "id": "2eab74a2-5a27-40e4-90b3-11945df28027",
   "metadata": {
    "vscode": {
     "languageId": "r"
    }
   },
   "outputs": [],
   "source": [
    "gex_meta <- seur@meta.data\n",
    "head(gex_meta, 3)"
   ]
  },
  {
   "cell_type": "markdown",
   "id": "4bf64e0c",
   "metadata": {},
   "source": [
    "### extract cell type labels from seur"
   ]
  },
  {
   "cell_type": "code",
   "execution_count": null,
   "id": "1a366d8c-e6c4-4101-9145-78f7f8734725",
   "metadata": {
    "vscode": {
     "languageId": "r"
    }
   },
   "outputs": [],
   "source": [
    "\n",
    "celltype_labels <- data.frame(\n",
    "  cellID = seur$atac_cellID,\n",
    "  celltype_annotation = seur$celltype_annotation\n",
    ")\n"
   ]
  },
  {
   "cell_type": "code",
   "execution_count": null,
   "id": "8fb1b703-93f9-4cb6-b500-ae3d38d58a60",
   "metadata": {
    "vscode": {
     "languageId": "r"
    }
   },
   "outputs": [],
   "source": [
    "rownames(celltype_labels) <- celltype_labels$cellID"
   ]
  },
  {
   "cell_type": "markdown",
   "id": "9ff4e933",
   "metadata": {},
   "source": [
    "### Subset the celltype_labels to the shared cells"
   ]
  },
  {
   "cell_type": "code",
   "execution_count": null,
   "id": "83743291-f36c-4a2e-bfe2-a6ac600aa457",
   "metadata": {
    "vscode": {
     "languageId": "r"
    }
   },
   "outputs": [],
   "source": [
    "celltype_labels <- celltype_labels[celltype_labels$cellID %in% shared_cells, ]\n",
    "dim(celltype_labels)"
   ]
  },
  {
   "cell_type": "code",
   "execution_count": null,
   "id": "8f7f2724-fa20-4e98-9feb-4526ff06801d",
   "metadata": {
    "vscode": {
     "languageId": "r"
    }
   },
   "outputs": [],
   "source": [
    "atacCellID <- Cells(atac_subGex_obj)\n",
    "length(atacCellID)\n"
   ]
  },
  {
   "cell_type": "markdown",
   "id": "4b0cbfc1",
   "metadata": {},
   "source": [
    "### Make sure the labels are presented in the the atac_subGex_obj in the right order"
   ]
  },
  {
   "cell_type": "code",
   "execution_count": null,
   "id": "d4242324-8ff2-42be-b8b3-c762d51f913f",
   "metadata": {
    "vscode": {
     "languageId": "r"
    }
   },
   "outputs": [],
   "source": [
    "all(rownames(celltype_labels) %in% colnames(atac_subGex_obj))\n",
    "identical(rownames(celltype_labels), colnames(atac_subGex_obj))\n"
   ]
  },
  {
   "cell_type": "code",
   "execution_count": null,
   "id": "973fbbc0-5a7d-4d2a-9e47-c83e4e4347c2",
   "metadata": {
    "vscode": {
     "languageId": "r"
    }
   },
   "outputs": [],
   "source": [
    "any(duplicated(rownames(celltype_labels)))\n"
   ]
  },
  {
   "cell_type": "code",
   "execution_count": null,
   "id": "f3082e21-9607-4618-b7d6-465211047176",
   "metadata": {
    "vscode": {
     "languageId": "r"
    }
   },
   "outputs": [],
   "source": [
    "celltype_labels <- celltype_labels[match(atacCellID, rownames(celltype_labels)), ]\n"
   ]
  },
  {
   "cell_type": "code",
   "execution_count": null,
   "id": "66f2f7ef-ebe9-4014-bcf7-3b9d6c66eeb1",
   "metadata": {
    "collapsed": true,
    "jupyter": {
     "outputs_hidden": true
    },
    "tags": [],
    "vscode": {
     "languageId": "r"
    }
   },
   "outputs": [],
   "source": [
    "head(celltype_labels)"
   ]
  },
  {
   "cell_type": "code",
   "execution_count": null,
   "id": "59e2d50d-79c5-4aad-bf91-d0dcf232db13",
   "metadata": {
    "vscode": {
     "languageId": "r"
    }
   },
   "outputs": [],
   "source": [
    "identical(rownames(celltype_labels), colnames(atac_subGex_obj))\n"
   ]
  },
  {
   "cell_type": "markdown",
   "id": "4d8a822b",
   "metadata": {},
   "source": [
    "### Transfer label"
   ]
  },
  {
   "cell_type": "code",
   "execution_count": null,
   "id": "8dded813-11d7-430b-b53e-8661fa784e8d",
   "metadata": {
    "tags": [],
    "vscode": {
     "languageId": "r"
    }
   },
   "outputs": [],
   "source": [
    "celltype_annotations <- celltype_labels$celltype_annotation\n",
    "  names(celltype_annotations) <- rownames(celltype_labels)\n",
    "\n",
    "atac_subGex_obj <- AddMetaData(atac_subGex_obj, metadata = celltype_annotations, col.name = \"celltype_annotation\")"
   ]
  },
  {
   "cell_type": "code",
   "execution_count": null,
   "id": "7c1950d3-a23d-4172-ac77-b3d420389cf8",
   "metadata": {
    "vscode": {
     "languageId": "r"
    }
   },
   "outputs": [],
   "source": [
    "head(atac_subGex_obj, 3)"
   ]
  },
  {
   "cell_type": "markdown",
   "id": "a97356f7-ff67-4823-a5ea-69a40c91090d",
   "metadata": {
    "tags": []
   },
   "source": [
    "# <span style=\"color:green\"> Part 2: Normalize, correct batch effects, and find clusters in the atacSubGex obj <span>"
   ]
  },
  {
   "cell_type": "code",
   "execution_count": null,
   "id": "4b713b04-0c97-4730-bfeb-2d8ba72c3234",
   "metadata": {
    "tags": [],
    "vscode": {
     "languageId": "r"
    }
   },
   "outputs": [],
   "source": [
    "atac_subGex_obj <- RunTFIDF(atac_subGex_obj) %>% \n",
    "    FindTopFeatures(min.cutoff = 'q0') %>% \n",
    "    RunSVD(assay = \"peaks\", reduction.key = \"LSI_\", reduction.name = \"lsi\")  \n"
   ]
  },
  {
   "cell_type": "code",
   "execution_count": null,
   "id": "303f5581-0b9e-4217-860b-5d1ba3772622",
   "metadata": {
    "vscode": {
     "languageId": "r"
    }
   },
   "outputs": [],
   "source": [
    "options(repr.plot.width=7, repr.plot.height=7)\n",
    "\n",
    "ElbowPlot(atac_subGex_obj, ndims = 25, reduction = \"lsi\")"
   ]
  },
  {
   "cell_type": "code",
   "execution_count": null,
   "id": "c2feeb94",
   "metadata": {
    "vscode": {
     "languageId": "r"
    }
   },
   "outputs": [],
   "source": [
    "# Chose 2:7 dimensions based on this"
   ]
  },
  {
   "cell_type": "code",
   "execution_count": null,
   "id": "d6a67733-2f03-490b-910d-717dd38e9e93",
   "metadata": {
    "vscode": {
     "languageId": "r"
    }
   },
   "outputs": [],
   "source": [
    "atac_subGex_obj <- RunUMAP(atac_subGex_obj, dims = 2:7, reduction = 'lsi', verbose = FALSE)"
   ]
  },
  {
   "cell_type": "code",
   "execution_count": null,
   "id": "f31401ff-10d1-4fcf-88e8-7c2e0d2282f2",
   "metadata": {
    "vscode": {
     "languageId": "r"
    }
   },
   "outputs": [],
   "source": [
    "atac_subGex_obj <- FindNeighbors(object = atac_subGex_obj, reduction = 'lsi', dims = 2:7, verbose = FALSE) %>%\n",
    "    FindClusters(verbose = FALSE, algorithm = 3, resolution = 0.05) %>%\n",
    "    RunUMAP(reduction = 'lsi', dims = 2:7, verbose = FALSE)"
   ]
  },
  {
   "cell_type": "code",
   "execution_count": null,
   "id": "a893c716-3fc8-4ffe-bbed-ce8f45c080e6",
   "metadata": {
    "vscode": {
     "languageId": "r"
    }
   },
   "outputs": [],
   "source": [
    "table(Idents(atac_subGex_obj))"
   ]
  },
  {
   "cell_type": "code",
   "execution_count": null,
   "id": "41d73f62-0d33-45ad-8098-d03dd52da292",
   "metadata": {
    "vscode": {
     "languageId": "r"
    }
   },
   "outputs": [],
   "source": [
    "table(atac_subGex_obj$celltype_annotation)"
   ]
  },
  {
   "cell_type": "code",
   "execution_count": null,
   "id": "023d75a8-e4a3-440e-8511-b770f16a31ec",
   "metadata": {
    "vscode": {
     "languageId": "r"
    }
   },
   "outputs": [],
   "source": [
    "options(repr.plot.width=12, repr.plot.height=12)\n",
    "\n",
    "one = DimPlot(atac_subGex_obj, label = T, cols = c(\"#FF5733\",\"#C70039\"))\n",
    "two = DimPlot(atac_subGex_obj, group.by = \"origin\", cols = c( \"#FF1493\", \"#C71585\", \"#A9A9A9\", \"#808080\"))\n",
    "three = DimPlot(atac_subGex_obj, group.by = \"celltype_annotation\", cols = c(\"#C70039\", \"#FFC300\", \"#FF5733\"))\n",
    "\n",
    "ggarrange(one, two, three)"
   ]
  },
  {
   "cell_type": "code",
   "execution_count": null,
   "id": "9ba1445a-22ac-46fc-a2de-ca683daadd91",
   "metadata": {
    "tags": [],
    "vscode": {
     "languageId": "r"
    }
   },
   "outputs": [],
   "source": [
    "saveRDS(atac_subGex_obj, \"atac_subGex_clustered_obj.RDS\")"
   ]
  },
  {
   "cell_type": "code",
   "execution_count": null,
   "id": "354394ff-f982-49e8-95b1-0f8857379ae9",
   "metadata": {
    "vscode": {
     "languageId": "r"
    }
   },
   "outputs": [],
   "source": [
    "table(atac_subGex_obj$origin)"
   ]
  }
 ],
 "metadata": {
  "kernelspec": {
   "display_name": "R",
   "language": "R",
   "name": "ir"
  },
  "language_info": {
   "codemirror_mode": "r",
   "file_extension": ".r",
   "mimetype": "text/x-r-source",
   "name": "R",
   "pygments_lexer": "r",
   "version": "4.4.0"
  }
 },
 "nbformat": 4,
 "nbformat_minor": 5
}
