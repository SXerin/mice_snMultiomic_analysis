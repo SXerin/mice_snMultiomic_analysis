{
 "cells": [
  {
   "cell_type": "code",
   "execution_count": null,
   "id": "dfe72252-44bd-4f0b-955c-014250b3bc08",
   "metadata": {
    "collapsed": true,
    "jupyter": {
     "outputs_hidden": true
    },
    "tags": [],
    "vscode": {
     "languageId": "r"
    }
   },
   "outputs": [],
   "source": [
    "library(tidyverse)\n",
    "library(cowplot)\n",
    "library(Matrix.utils)\n",
    "library(edgeR)\n",
    "library(Matrix)\n",
    "library(reshape2)\n",
    "library(S4Vectors)\n",
    "library(SingleCellExperiment)\n",
    "library(pheatmap)\n",
    "library(apeglm)\n",
    "library(png)\n",
    "library(DESeq2)\n",
    "library(RColorBrewer)\n",
    "library(data.table)\n",
    "library(Seurat)\n",
    "library(AUCell)\n",
    "library(ggplot2)\n",
    "library(tidyr)\n",
    "library(harmony)\n",
    "library(Scillus)\n",
    "library(ggpubr)\n",
    "library(patchwork)\n",
    "set.seed(123)"
   ]
  },
  {
   "cell_type": "markdown",
   "id": "2b6f1756",
   "metadata": {
    "vscode": {
     "languageId": "r"
    }
   },
   "source": [
    "# Goal: Identify differentially expressed genes between the KO and WT groups using logistic regression"
   ]
  },
  {
   "cell_type": "code",
   "execution_count": null,
   "id": "00c520be-d6ba-4228-8133-1361f91228ef",
   "metadata": {
    "vscode": {
     "languageId": "r"
    }
   },
   "outputs": [],
   "source": [
    "seur <- readRDS(\"GEX_cDC1_clustered.RDS\")\n",
    "dim(seur)"
   ]
  },
  {
   "cell_type": "code",
   "execution_count": null,
   "id": "f101bc97-ebde-45e3-96fc-c6d1959a1619",
   "metadata": {
    "vscode": {
     "languageId": "r"
    }
   },
   "outputs": [],
   "source": [
    "min(seur$nCount_RNA)\n",
    "max(seur$nCount_RNA)\n",
    "\n",
    "min(seur$nFeature_RNA)\n",
    "max(seur$nFeature_RNA)"
   ]
  },
  {
   "cell_type": "markdown",
   "id": "69468641-15d5-4505-ba22-241d269a4b27",
   "metadata": {},
   "source": [
    "### Use nCount and nFeature as latent.var"
   ]
  },
  {
   "cell_type": "code",
   "execution_count": null,
   "id": "70ee156d-013c-4dfa-958e-9b8b304908fa",
   "metadata": {
    "vscode": {
     "languageId": "r"
    }
   },
   "outputs": [],
   "source": [
    "table(seur$SampleName)"
   ]
  },
  {
   "cell_type": "code",
   "execution_count": null,
   "id": "8dc15a94-2599-4604-8715-c484c0c6c40a",
   "metadata": {
    "collapsed": true,
    "jupyter": {
     "outputs_hidden": true
    },
    "tags": [],
    "vscode": {
     "languageId": "r"
    }
   },
   "outputs": [],
   "source": [
    "deg_sc_lr <- FindMarkers(seur, \n",
    "                      ident.1 = \"KO_group\", \n",
    "                      ident.2 = \"WT_group\", \n",
    "                      group.by = \"experimental_groups\", \n",
    "                      test.use = \"LR\", \n",
    "                      latent.vars = c(\"nCount_RNA\", \"nFeature_RNA\"))"
   ]
  },
  {
   "cell_type": "code",
   "execution_count": null,
   "id": "e2c209ef-0d82-44e8-849e-69efd76ce287",
   "metadata": {
    "vscode": {
     "languageId": "r"
    }
   },
   "outputs": [],
   "source": [
    "dim(deg_sc_lr)"
   ]
  },
  {
   "cell_type": "code",
   "execution_count": null,
   "id": "ef50269d-abc1-4951-8165-c9bb15632382",
   "metadata": {
    "vscode": {
     "languageId": "r"
    }
   },
   "outputs": [],
   "source": [
    "deg_sc_lr_sig <- deg_sc_lr[deg_sc_lr$p_val_adj < 0.05,]\n",
    "dim(deg_sc_lr_sig)"
   ]
  },
  {
   "cell_type": "code",
   "execution_count": null,
   "id": "87913b36-18cd-4112-afeb-742e01307532",
   "metadata": {
    "vscode": {
     "languageId": "r"
    }
   },
   "outputs": [],
   "source": [
    "up_deg_sc_lr <- deg_sc_lr_sig[deg_sc_lr_sig$avg_log2FC > 0,]\n",
    "dim(up_deg_sc_lr)"
   ]
  },
  {
   "cell_type": "code",
   "execution_count": null,
   "id": "d68e2ddf-ffbf-406a-8368-d8cbe71975d0",
   "metadata": {
    "tags": [],
    "vscode": {
     "languageId": "r"
    }
   },
   "outputs": [],
   "source": [
    "deg_sc_lr_sig$gene <- rownames(deg_sc_lr_sig)\n",
    "deg_sc_lr$gene <- rownames(deg_sc_lr)\n",
    "up_deg_sc_lr$gene <- rownames(up_deg_sc_lr)"
   ]
  },
  {
   "cell_type": "code",
   "execution_count": null,
   "id": "45113a82-8e31-4d62-85c9-5c429489850d",
   "metadata": {
    "vscode": {
     "languageId": "r"
    }
   },
   "outputs": [],
   "source": [
    "head(deg_sc_lr_sig)"
   ]
  },
  {
   "cell_type": "code",
   "execution_count": null,
   "id": "d453ebd1-d07f-4989-8b1d-93827e606cf9",
   "metadata": {
    "vscode": {
     "languageId": "r"
    }
   },
   "outputs": [],
   "source": [
    "write.csv(deg_sc_lr_sig, \"sc_sigDEG_cDC1_LR.csv\")\n",
    "write.csv(up_deg_sc_lr, \"sc_sigDEG_KOup_cDC1_LR.csv\")\n",
    "\n",
    "write.csv(deg_sc_lr, \"sc_DEG_cDC1_LR.csv\")"
   ]
  }
 ],
 "metadata": {
  "kernelspec": {
   "display_name": "R",
   "language": "R",
   "name": "ir"
  },
  "language_info": {
   "codemirror_mode": "r",
   "file_extension": ".r",
   "mimetype": "text/x-r-source",
   "name": "R",
   "pygments_lexer": "r",
   "version": "4.4.0"
  }
 },
 "nbformat": 4,
 "nbformat_minor": 5
}
